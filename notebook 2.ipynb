{
 "cells": [
  {
   "cell_type": "markdown",
   "id": "6361153c",
   "metadata": {},
   "source": [
    "# About the project\n",
    "Welcome to the year 2912, where your data science skills are needed to solve a cosmic mystery. We've received a transmission from four lightyears away and things aren't looking good.\n",
    "\n",
    "The Spaceship Titanic was an interstellar passenger liner launched a month ago. With almost 13,000 passengers on board, the vessel set out on its maiden voyage transporting emigrants from our solar system to three newly habitable exoplanets orbiting nearby stars.\n",
    "\n",
    "While rounding Alpha Centauri en route to its first destination—the torrid 55 Cancri E—the unwary Spaceship Titanic collided with a spacetime anomaly hidden within a dust cloud. Sadly, it met a similar fate as its namesake from 1000 years before. Though the ship stayed intact, almost half of the passengers were transported to an alternate dimension!\n",
    "\n",
    "\n",
    "\n",
    "To help rescue crews and retrieve the lost passengers, you are challenged to predict which passengers were transported by the anomaly using records recovered from the spaceship’s damaged computer system.\n",
    "\n",
    "Help save them and change history!"
   ]
  },
  {
   "cell_type": "markdown",
   "id": "3eaabc3d",
   "metadata": {},
   "source": [
    "# Data Description\n",
    "- PassengerId - A unique Id for each passenger. Each Id takes the form gggg_pp where gggg indicates a group the passenger is travelling with and pp is their number within the group. People in a group are often family members, but not always.<br>\n",
    "- HomePlanet - The planet the passenger departed from, typically their planet of permanent residence.<br>\n",
    "- CryoSleep - Indicates whether the passenger elected to be put into suspended animation for the duration of the voyage. <br>Passengers in cryosleep are confined to their cabins.<br>\n",
    "- Cabin - The cabin number where the passenger is staying. Takes the form deck/num/side, where side can be either P for Port or S for Starboard.<br>\n",
    "- Destination - The planet the passenger will be debarking to.<br>\n",
    "- Age - The age of the passenger.<br>\n",
    "- VIP - Whether the passenger has paid for special VIP service during the voyage.<br>\n",
    "- RoomService, FoodCourt, ShoppingMall, Spa, VRDeck - Amount the passenger has billed at each of the Spaceship Titanic's many luxury amenities.<br>\n",
    "- Name - The first and last names of the passenger.<br>\n",
    "- Transported - Whether the passenger was transported to another dimension. This is the target, the column you are trying to predict.<br>"
   ]
  },
  {
   "cell_type": "markdown",
   "id": "221ffb2a",
   "metadata": {},
   "source": [
    "# 1. Import libraries and load data"
   ]
  },
  {
   "cell_type": "code",
   "execution_count": 1,
   "id": "64c12b54",
   "metadata": {},
   "outputs": [],
   "source": [
    "import pandas as pd\n",
    "import numpy as np\n",
    "import matplotlib.pyplot as plt\n",
    "import seaborn as sns\n",
    "from IPython.display import display\n",
    "from sklearn.model_selection import train_test_split\n",
    "import scipy.stats as stat\n",
    "import pylab\n",
    "from sklearn.preprocessing import StandardScaler"
   ]
  },
  {
   "cell_type": "code",
   "execution_count": 2,
   "id": "a7cb6813",
   "metadata": {},
   "outputs": [],
   "source": [
    "df = pd.read_csv('train.csv')"
   ]
  },
  {
   "cell_type": "code",
   "execution_count": 3,
   "id": "54919ff1",
   "metadata": {},
   "outputs": [
    {
     "data": {
      "text/html": [
       "<div>\n",
       "<style scoped>\n",
       "    .dataframe tbody tr th:only-of-type {\n",
       "        vertical-align: middle;\n",
       "    }\n",
       "\n",
       "    .dataframe tbody tr th {\n",
       "        vertical-align: top;\n",
       "    }\n",
       "\n",
       "    .dataframe thead th {\n",
       "        text-align: right;\n",
       "    }\n",
       "</style>\n",
       "<table border=\"1\" class=\"dataframe\">\n",
       "  <thead>\n",
       "    <tr style=\"text-align: right;\">\n",
       "      <th></th>\n",
       "      <th>PassengerId</th>\n",
       "      <th>HomePlanet</th>\n",
       "      <th>CryoSleep</th>\n",
       "      <th>Cabin</th>\n",
       "      <th>Destination</th>\n",
       "      <th>Age</th>\n",
       "      <th>VIP</th>\n",
       "      <th>RoomService</th>\n",
       "      <th>FoodCourt</th>\n",
       "      <th>ShoppingMall</th>\n",
       "      <th>Spa</th>\n",
       "      <th>VRDeck</th>\n",
       "      <th>Name</th>\n",
       "      <th>Transported</th>\n",
       "    </tr>\n",
       "  </thead>\n",
       "  <tbody>\n",
       "    <tr>\n",
       "      <th>0</th>\n",
       "      <td>0001_01</td>\n",
       "      <td>Europa</td>\n",
       "      <td>False</td>\n",
       "      <td>B/0/P</td>\n",
       "      <td>TRAPPIST-1e</td>\n",
       "      <td>39.0</td>\n",
       "      <td>False</td>\n",
       "      <td>0.0</td>\n",
       "      <td>0.0</td>\n",
       "      <td>0.0</td>\n",
       "      <td>0.0</td>\n",
       "      <td>0.0</td>\n",
       "      <td>Maham Ofracculy</td>\n",
       "      <td>False</td>\n",
       "    </tr>\n",
       "    <tr>\n",
       "      <th>1</th>\n",
       "      <td>0002_01</td>\n",
       "      <td>Earth</td>\n",
       "      <td>False</td>\n",
       "      <td>F/0/S</td>\n",
       "      <td>TRAPPIST-1e</td>\n",
       "      <td>24.0</td>\n",
       "      <td>False</td>\n",
       "      <td>109.0</td>\n",
       "      <td>9.0</td>\n",
       "      <td>25.0</td>\n",
       "      <td>549.0</td>\n",
       "      <td>44.0</td>\n",
       "      <td>Juanna Vines</td>\n",
       "      <td>True</td>\n",
       "    </tr>\n",
       "    <tr>\n",
       "      <th>2</th>\n",
       "      <td>0003_01</td>\n",
       "      <td>Europa</td>\n",
       "      <td>False</td>\n",
       "      <td>A/0/S</td>\n",
       "      <td>TRAPPIST-1e</td>\n",
       "      <td>58.0</td>\n",
       "      <td>True</td>\n",
       "      <td>43.0</td>\n",
       "      <td>3576.0</td>\n",
       "      <td>0.0</td>\n",
       "      <td>6715.0</td>\n",
       "      <td>49.0</td>\n",
       "      <td>Altark Susent</td>\n",
       "      <td>False</td>\n",
       "    </tr>\n",
       "    <tr>\n",
       "      <th>3</th>\n",
       "      <td>0003_02</td>\n",
       "      <td>Europa</td>\n",
       "      <td>False</td>\n",
       "      <td>A/0/S</td>\n",
       "      <td>TRAPPIST-1e</td>\n",
       "      <td>33.0</td>\n",
       "      <td>False</td>\n",
       "      <td>0.0</td>\n",
       "      <td>1283.0</td>\n",
       "      <td>371.0</td>\n",
       "      <td>3329.0</td>\n",
       "      <td>193.0</td>\n",
       "      <td>Solam Susent</td>\n",
       "      <td>False</td>\n",
       "    </tr>\n",
       "    <tr>\n",
       "      <th>4</th>\n",
       "      <td>0004_01</td>\n",
       "      <td>Earth</td>\n",
       "      <td>False</td>\n",
       "      <td>F/1/S</td>\n",
       "      <td>TRAPPIST-1e</td>\n",
       "      <td>16.0</td>\n",
       "      <td>False</td>\n",
       "      <td>303.0</td>\n",
       "      <td>70.0</td>\n",
       "      <td>151.0</td>\n",
       "      <td>565.0</td>\n",
       "      <td>2.0</td>\n",
       "      <td>Willy Santantines</td>\n",
       "      <td>True</td>\n",
       "    </tr>\n",
       "  </tbody>\n",
       "</table>\n",
       "</div>"
      ],
      "text/plain": [
       "  PassengerId HomePlanet CryoSleep  Cabin  Destination   Age    VIP  \\\n",
       "0     0001_01     Europa     False  B/0/P  TRAPPIST-1e  39.0  False   \n",
       "1     0002_01      Earth     False  F/0/S  TRAPPIST-1e  24.0  False   \n",
       "2     0003_01     Europa     False  A/0/S  TRAPPIST-1e  58.0   True   \n",
       "3     0003_02     Europa     False  A/0/S  TRAPPIST-1e  33.0  False   \n",
       "4     0004_01      Earth     False  F/1/S  TRAPPIST-1e  16.0  False   \n",
       "\n",
       "   RoomService  FoodCourt  ShoppingMall     Spa  VRDeck               Name  \\\n",
       "0          0.0        0.0           0.0     0.0     0.0    Maham Ofracculy   \n",
       "1        109.0        9.0          25.0   549.0    44.0       Juanna Vines   \n",
       "2         43.0     3576.0           0.0  6715.0    49.0      Altark Susent   \n",
       "3          0.0     1283.0         371.0  3329.0   193.0       Solam Susent   \n",
       "4        303.0       70.0         151.0   565.0     2.0  Willy Santantines   \n",
       "\n",
       "   Transported  \n",
       "0        False  \n",
       "1         True  \n",
       "2        False  \n",
       "3        False  \n",
       "4         True  "
      ]
     },
     "execution_count": 3,
     "metadata": {},
     "output_type": "execute_result"
    }
   ],
   "source": [
    "df.head()"
   ]
  },
  {
   "cell_type": "markdown",
   "id": "7c3957f9",
   "metadata": {},
   "source": [
    "# 2. Feature Engineering"
   ]
  },
  {
   "cell_type": "markdown",
   "id": "0d236bdf",
   "metadata": {},
   "source": [
    "### 2.1 EDA - Basic\n",
    "- Check if columns are correctly classified as numerical and categorical (sometimes numerical columns are marked categorical or vice versa)\n",
    "- Check if any numerical features have extremely high values (sometimes NaNs are coded as high number like 99999999)\n",
    "- Check cardinality of categorical features (if very high cardinality then using one-hot encoding may create a lot of features)"
   ]
  },
  {
   "cell_type": "code",
   "execution_count": 4,
   "id": "8c580cf1",
   "metadata": {},
   "outputs": [
    {
     "name": "stdout",
     "output_type": "stream",
     "text": [
      "<class 'pandas.core.frame.DataFrame'>\n",
      "RangeIndex: 8693 entries, 0 to 8692\n",
      "Data columns (total 14 columns):\n",
      " #   Column        Non-Null Count  Dtype  \n",
      "---  ------        --------------  -----  \n",
      " 0   PassengerId   8693 non-null   object \n",
      " 1   HomePlanet    8492 non-null   object \n",
      " 2   CryoSleep     8476 non-null   object \n",
      " 3   Cabin         8494 non-null   object \n",
      " 4   Destination   8511 non-null   object \n",
      " 5   Age           8514 non-null   float64\n",
      " 6   VIP           8490 non-null   object \n",
      " 7   RoomService   8512 non-null   float64\n",
      " 8   FoodCourt     8510 non-null   float64\n",
      " 9   ShoppingMall  8485 non-null   float64\n",
      " 10  Spa           8510 non-null   float64\n",
      " 11  VRDeck        8505 non-null   float64\n",
      " 12  Name          8493 non-null   object \n",
      " 13  Transported   8693 non-null   bool   \n",
      "dtypes: bool(1), float64(6), object(7)\n",
      "memory usage: 891.5+ KB\n"
     ]
    }
   ],
   "source": [
    "df.info()"
   ]
  },
  {
   "cell_type": "markdown",
   "id": "650325e7",
   "metadata": {},
   "source": [
    "- The actual categorical features (HomePlanet, Cabin, Destination, and Name) are already encoded as object. We will later use one-hot encoding to deal with it.\n",
    "- Numerical features already classified correctly"
   ]
  },
  {
   "cell_type": "code",
   "execution_count": 5,
   "id": "acdec0e0",
   "metadata": {},
   "outputs": [
    {
     "data": {
      "text/html": [
       "<div>\n",
       "<style scoped>\n",
       "    .dataframe tbody tr th:only-of-type {\n",
       "        vertical-align: middle;\n",
       "    }\n",
       "\n",
       "    .dataframe tbody tr th {\n",
       "        vertical-align: top;\n",
       "    }\n",
       "\n",
       "    .dataframe thead th {\n",
       "        text-align: right;\n",
       "    }\n",
       "</style>\n",
       "<table border=\"1\" class=\"dataframe\">\n",
       "  <thead>\n",
       "    <tr style=\"text-align: right;\">\n",
       "      <th></th>\n",
       "      <th>Age</th>\n",
       "      <th>RoomService</th>\n",
       "      <th>FoodCourt</th>\n",
       "      <th>ShoppingMall</th>\n",
       "      <th>Spa</th>\n",
       "      <th>VRDeck</th>\n",
       "    </tr>\n",
       "  </thead>\n",
       "  <tbody>\n",
       "    <tr>\n",
       "      <th>count</th>\n",
       "      <td>8514.000000</td>\n",
       "      <td>8512.000000</td>\n",
       "      <td>8510.000000</td>\n",
       "      <td>8485.000000</td>\n",
       "      <td>8510.000000</td>\n",
       "      <td>8505.000000</td>\n",
       "    </tr>\n",
       "    <tr>\n",
       "      <th>mean</th>\n",
       "      <td>28.827930</td>\n",
       "      <td>224.687617</td>\n",
       "      <td>458.077203</td>\n",
       "      <td>173.729169</td>\n",
       "      <td>311.138778</td>\n",
       "      <td>304.854791</td>\n",
       "    </tr>\n",
       "    <tr>\n",
       "      <th>std</th>\n",
       "      <td>14.489021</td>\n",
       "      <td>666.717663</td>\n",
       "      <td>1611.489240</td>\n",
       "      <td>604.696458</td>\n",
       "      <td>1136.705535</td>\n",
       "      <td>1145.717189</td>\n",
       "    </tr>\n",
       "    <tr>\n",
       "      <th>min</th>\n",
       "      <td>0.000000</td>\n",
       "      <td>0.000000</td>\n",
       "      <td>0.000000</td>\n",
       "      <td>0.000000</td>\n",
       "      <td>0.000000</td>\n",
       "      <td>0.000000</td>\n",
       "    </tr>\n",
       "    <tr>\n",
       "      <th>25%</th>\n",
       "      <td>19.000000</td>\n",
       "      <td>0.000000</td>\n",
       "      <td>0.000000</td>\n",
       "      <td>0.000000</td>\n",
       "      <td>0.000000</td>\n",
       "      <td>0.000000</td>\n",
       "    </tr>\n",
       "    <tr>\n",
       "      <th>50%</th>\n",
       "      <td>27.000000</td>\n",
       "      <td>0.000000</td>\n",
       "      <td>0.000000</td>\n",
       "      <td>0.000000</td>\n",
       "      <td>0.000000</td>\n",
       "      <td>0.000000</td>\n",
       "    </tr>\n",
       "    <tr>\n",
       "      <th>75%</th>\n",
       "      <td>38.000000</td>\n",
       "      <td>47.000000</td>\n",
       "      <td>76.000000</td>\n",
       "      <td>27.000000</td>\n",
       "      <td>59.000000</td>\n",
       "      <td>46.000000</td>\n",
       "    </tr>\n",
       "    <tr>\n",
       "      <th>max</th>\n",
       "      <td>79.000000</td>\n",
       "      <td>14327.000000</td>\n",
       "      <td>29813.000000</td>\n",
       "      <td>23492.000000</td>\n",
       "      <td>22408.000000</td>\n",
       "      <td>24133.000000</td>\n",
       "    </tr>\n",
       "  </tbody>\n",
       "</table>\n",
       "</div>"
      ],
      "text/plain": [
       "               Age   RoomService     FoodCourt  ShoppingMall           Spa  \\\n",
       "count  8514.000000   8512.000000   8510.000000   8485.000000   8510.000000   \n",
       "mean     28.827930    224.687617    458.077203    173.729169    311.138778   \n",
       "std      14.489021    666.717663   1611.489240    604.696458   1136.705535   \n",
       "min       0.000000      0.000000      0.000000      0.000000      0.000000   \n",
       "25%      19.000000      0.000000      0.000000      0.000000      0.000000   \n",
       "50%      27.000000      0.000000      0.000000      0.000000      0.000000   \n",
       "75%      38.000000     47.000000     76.000000     27.000000     59.000000   \n",
       "max      79.000000  14327.000000  29813.000000  23492.000000  22408.000000   \n",
       "\n",
       "             VRDeck  \n",
       "count   8505.000000  \n",
       "mean     304.854791  \n",
       "std     1145.717189  \n",
       "min        0.000000  \n",
       "25%        0.000000  \n",
       "50%        0.000000  \n",
       "75%       46.000000  \n",
       "max    24133.000000  "
      ]
     },
     "execution_count": 5,
     "metadata": {},
     "output_type": "execute_result"
    }
   ],
   "source": [
    "df.describe()"
   ]
  },
  {
   "cell_type": "markdown",
   "id": "33360542",
   "metadata": {},
   "source": [
    "We can see that there are no significantly high values, so there is no encoding done for NaNs"
   ]
  },
  {
   "cell_type": "code",
   "execution_count": 6,
   "id": "b08a559f",
   "metadata": {},
   "outputs": [],
   "source": [
    "categorical = ['HomePlanet', 'CryoSleep', 'Destination', 'VIP', 'Transported']\n",
    "numerical = ['Age', 'RoomService','FoodCourt', 'ShoppingMall', 'Spa', 'VRDeck']"
   ]
  },
  {
   "cell_type": "code",
   "execution_count": 7,
   "id": "5bd0598d",
   "metadata": {},
   "outputs": [
    {
     "name": "stdout",
     "output_type": "stream",
     "text": [
      "HomePlanet\n",
      "3\n",
      "['Europa' 'Earth' 'Mars' nan]\n",
      "\n",
      "\n",
      "CryoSleep\n",
      "2\n",
      "[False True nan]\n",
      "\n",
      "\n",
      "Destination\n",
      "3\n",
      "['TRAPPIST-1e' 'PSO J318.5-22' '55 Cancri e' nan]\n",
      "\n",
      "\n",
      "VIP\n",
      "2\n",
      "[False True nan]\n",
      "\n",
      "\n",
      "Transported\n",
      "2\n",
      "[False  True]\n",
      "\n",
      "\n"
     ]
    }
   ],
   "source": [
    "for c in categorical:\n",
    "    print(c)\n",
    "    print(df[c].nunique())\n",
    "    print(df[c].unique())\n",
    "    print('\\n')"
   ]
  },
  {
   "cell_type": "markdown",
   "id": "61c1e44d",
   "metadata": {},
   "source": [
    "The data can be considered low cardinality"
   ]
  },
  {
   "cell_type": "code",
   "execution_count": 8,
   "id": "8bac615d",
   "metadata": {},
   "outputs": [],
   "source": [
    "del df['PassengerId']\n",
    "categorical = ['HomePlanet','Cabin','Name', 'CryoSleep', 'Destination', 'VIP']\n",
    "numerical = ['Age', 'RoomService','FoodCourt', 'ShoppingMall', 'Spa', 'VRDeck']"
   ]
  },
  {
   "cell_type": "markdown",
   "id": "bbf38784",
   "metadata": {},
   "source": [
    "### 2.2 Handle missing data"
   ]
  },
  {
   "cell_type": "code",
   "execution_count": 9,
   "id": "f4b7a160",
   "metadata": {},
   "outputs": [
    {
     "data": {
      "text/plain": [
       "HomePlanet      201\n",
       "CryoSleep       217\n",
       "Cabin           199\n",
       "Destination     182\n",
       "Age             179\n",
       "VIP             203\n",
       "RoomService     181\n",
       "FoodCourt       183\n",
       "ShoppingMall    208\n",
       "Spa             183\n",
       "VRDeck          188\n",
       "Name            200\n",
       "Transported       0\n",
       "dtype: int64"
      ]
     },
     "execution_count": 9,
     "metadata": {},
     "output_type": "execute_result"
    }
   ],
   "source": [
    "df.isnull().sum()"
   ]
  },
  {
   "cell_type": "markdown",
   "id": "9377ce66",
   "metadata": {},
   "source": [
    "Numerical columns"
   ]
  },
  {
   "cell_type": "code",
   "execution_count": 10,
   "id": "13824460",
   "metadata": {},
   "outputs": [],
   "source": [
    "def impute_nan(df,variable,median):\n",
    "    df[variable+\"_median\"]=df[variable].fillna(median)\n",
    "    df[variable+\"_random\"]=df[variable]\n",
    "    ##It will have the random sample to fill the na\n",
    "    random_sample=df[variable].dropna().sample(df[variable].isnull().sum(),random_state=0)\n",
    "    ##pandas need to have same index in order to merge the dataset\n",
    "    random_sample.index=df[df[variable].isnull()].index\n",
    "    df.loc[df[variable].isnull(),variable+'_random']=random_sample\n",
    "\n",
    "def draw_plot_impute(df,feature):\n",
    "    fig = plt.figure()\n",
    "    ax = fig.add_subplot(111)\n",
    "    df[feature].plot(kind='kde', ax=ax)\n",
    "    df[feature+'_median'].plot(kind='kde', ax=ax, color='red')\n",
    "    df[feature+'_random'].plot(kind='kde', ax=ax, color='green')\n",
    "    lines, labels = ax.get_legend_handles_labels()\n",
    "    ax.legend(lines, labels, loc='best')\n",
    "    plt.show()"
   ]
  },
  {
   "cell_type": "code",
   "execution_count": 11,
   "id": "99c6b6f7",
   "metadata": {},
   "outputs": [
    {
     "data": {
      "image/png": "[encoded data removed]",
      "text/plain": [
       "<Figure size 432x288 with 1 Axes>"
      ]
     },
     "metadata": {
      "needs_background": "light"
     },
     "output_type": "display_data"
    }
   ],
   "source": [
    "df_age=pd.read_csv('train.csv', usecols=['Age','Transported'])\n",
    "impute_nan(df_age,'Age',df.Age.median())\n",
    "draw_plot_impute(df_age,'Age')"
   ]
  },
  {
   "cell_type": "markdown",
   "id": "d7854ca2",
   "metadata": {},
   "source": [
    "There is less distortion in variance by replacing with random sample "
   ]
  },
  {
   "cell_type": "code",
   "execution_count": 12,
   "id": "9a326d8a",
   "metadata": {},
   "outputs": [],
   "source": [
    "# Replace Age column with random sample\n",
    "def impute_nan_random(df,feature):\n",
    "    random_sample=df[feature].dropna().sample(df[feature].isnull().sum(),random_state=0)\n",
    "    random_sample.index=df[df[feature].isnull()].index\n",
    "    df.loc[df[feature].isnull(),feature]=random_sample"
   ]
  },
  {
   "cell_type": "code",
   "execution_count": 13,
   "id": "f3cdeef5",
   "metadata": {},
   "outputs": [],
   "source": [
    "impute_nan_random(df,'Age')"
   ]
  },
  {
   "cell_type": "code",
   "execution_count": 14,
   "id": "44e989a0",
   "metadata": {},
   "outputs": [
    {
     "data": {
      "image/png": "[encoded data removed]",
      "text/plain": [
       "<Figure size 432x288 with 1 Axes>"
      ]
     },
     "metadata": {
      "needs_background": "light"
     },
     "output_type": "display_data"
    }
   ],
   "source": [
    "df_bills=pd.read_csv('train.csv', usecols=[ 'RoomService', 'FoodCourt', 'ShoppingMall', 'Spa', 'VRDeck','Transported'])\n",
    "impute_nan(df_bills,'RoomService',df.Age.median())\n",
    "draw_plot_impute(df_bills,'RoomService')"
   ]
  },
  {
   "cell_type": "code",
   "execution_count": 15,
   "id": "0799477b",
   "metadata": {},
   "outputs": [
    {
     "data": {
      "image/png": "[encoded data removed]",
      "text/plain": [
       "<Figure size 432x288 with 1 Axes>"
      ]
     },
     "metadata": {
      "needs_background": "light"
     },
     "output_type": "display_data"
    }
   ],
   "source": [
    "df_bills=pd.read_csv('train.csv', usecols=[ 'RoomService', 'FoodCourt', 'ShoppingMall', 'Spa', 'VRDeck','Transported'])\n",
    "impute_nan(df_bills,'FoodCourt',df.Age.median())\n",
    "draw_plot_impute(df_bills,'FoodCourt')"
   ]
  },
  {
   "cell_type": "code",
   "execution_count": 16,
   "id": "a25f18cb",
   "metadata": {},
   "outputs": [
    {
     "data": {
      "image/png": "[encoded data removed]",
      "text/plain": [
       "<Figure size 432x288 with 1 Axes>"
      ]
     },
     "metadata": {
      "needs_background": "light"
     },
     "output_type": "display_data"
    }
   ],
   "source": [
    "df_bills=pd.read_csv('train.csv', usecols=[ 'RoomService', 'FoodCourt', 'ShoppingMall', 'Spa', 'VRDeck','Transported'])\n",
    "impute_nan(df_bills,'ShoppingMall',df.Age.median())\n",
    "draw_plot_impute(df_bills,'ShoppingMall')"
   ]
  },
  {
   "cell_type": "code",
   "execution_count": 17,
   "id": "d131b813",
   "metadata": {},
   "outputs": [
    {
     "data": {
      "image/png": "[encoded data removed]",
      "text/plain": [
       "<Figure size 432x288 with 1 Axes>"
      ]
     },
     "metadata": {
      "needs_background": "light"
     },
     "output_type": "display_data"
    }
   ],
   "source": [
    "df_bills=pd.read_csv('train.csv', usecols=[ 'RoomService', 'FoodCourt', 'ShoppingMall', 'Spa', 'VRDeck','Transported'])\n",
    "impute_nan(df_bills,'Spa',df.Age.median())\n",
    "draw_plot_impute(df_bills,'Spa')"
   ]
  },
  {
   "cell_type": "code",
   "execution_count": 18,
   "id": "5d0457e3",
   "metadata": {},
   "outputs": [
    {
     "data": {
      "image/png": "[encoded data removed]",
      "text/plain": [
       "<Figure size 432x288 with 1 Axes>"
      ]
     },
     "metadata": {
      "needs_background": "light"
     },
     "output_type": "display_data"
    }
   ],
   "source": [
    "df_bills=pd.read_csv('train.csv', usecols=[ 'RoomService', 'FoodCourt', 'ShoppingMall', 'Spa', 'VRDeck','Transported'])\n",
    "impute_nan(df_bills,'VRDeck',df.Age.median())\n",
    "draw_plot_impute(df_bills,'VRDeck')"
   ]
  },
  {
   "cell_type": "markdown",
   "id": "fbd79149",
   "metadata": {},
   "source": [
    "Bill related columns have less distortion in variance by replacing with random sample"
   ]
  },
  {
   "cell_type": "code",
   "execution_count": 19,
   "id": "6c18a0c2",
   "metadata": {},
   "outputs": [],
   "source": [
    "# Replace bill related column with random sample\n",
    "for feature in ['RoomService', 'FoodCourt', 'ShoppingMall', 'Spa', 'VRDeck']:\n",
    "    impute_nan_random(df,feature)"
   ]
  },
  {
   "cell_type": "code",
   "execution_count": 20,
   "id": "4aa55480",
   "metadata": {},
   "outputs": [
    {
     "data": {
      "text/plain": [
       "HomePlanet      201\n",
       "CryoSleep       217\n",
       "Cabin           199\n",
       "Destination     182\n",
       "Age               0\n",
       "VIP             203\n",
       "RoomService       0\n",
       "FoodCourt         0\n",
       "ShoppingMall      0\n",
       "Spa               0\n",
       "VRDeck            0\n",
       "Name            200\n",
       "Transported       0\n",
       "dtype: int64"
      ]
     },
     "execution_count": 20,
     "metadata": {},
     "output_type": "execute_result"
    }
   ],
   "source": [
    "df.isnull().sum()"
   ]
  },
  {
   "cell_type": "markdown",
   "id": "fc052cab",
   "metadata": {},
   "source": [
    "Categorical column"
   ]
  },
  {
   "cell_type": "code",
   "execution_count": 21,
   "id": "3c23dda1",
   "metadata": {},
   "outputs": [
    {
     "data": {
      "text/plain": [
       "HomePlanet     0.023122\n",
       "Cabin          0.022892\n",
       "Name           0.023007\n",
       "CryoSleep      0.024963\n",
       "Destination    0.020936\n",
       "VIP            0.023352\n",
       "dtype: float64"
      ]
     },
     "execution_count": 21,
     "metadata": {},
     "output_type": "execute_result"
    }
   ],
   "source": [
    "df[categorical].isnull().mean()"
   ]
  },
  {
   "cell_type": "code",
   "execution_count": 22,
   "id": "7eadb7eb",
   "metadata": {},
   "outputs": [],
   "source": [
    "def impute_nan_mode(df,variable):\n",
    "    most_frequent_category=df[variable].mode()[0]\n",
    "    df[variable].fillna(most_frequent_category,inplace=True)"
   ]
  },
  {
   "cell_type": "code",
   "execution_count": 23,
   "id": "83192639",
   "metadata": {},
   "outputs": [],
   "source": [
    "for c in ['HomePlanet','CryoSleep','Destination','VIP']:\n",
    "    impute_nan_mode(df,c)"
   ]
  },
  {
   "cell_type": "markdown",
   "id": "ac3c0f7c",
   "metadata": {},
   "source": [
    "Unlike the other categorical columns, Cabin and Name have so many unique value so we should handle it differently"
   ]
  },
  {
   "cell_type": "code",
   "execution_count": 24,
   "id": "1210cb3a",
   "metadata": {},
   "outputs": [],
   "source": [
    "for c in ['Name','Cabin']:\n",
    "    impute_nan_random(df,c)"
   ]
  },
  {
   "cell_type": "markdown",
   "id": "edf9173a",
   "metadata": {},
   "source": [
    "We want to add new column Deck and Side so that column Cabin can be more informative."
   ]
  },
  {
   "cell_type": "code",
   "execution_count": 25,
   "id": "13455bba",
   "metadata": {},
   "outputs": [],
   "source": [
    "df['Deck'] = df.Cabin.str.split('/').str[0]\n",
    "df['Side'] = df.Cabin.str.split('/').str[-1]"
   ]
  },
  {
   "cell_type": "code",
   "execution_count": 26,
   "id": "b05497fb",
   "metadata": {},
   "outputs": [],
   "source": [
    "categorical = ['HomePlanet','Cabin','Name', 'CryoSleep', 'Destination', 'VIP','Deck','Side']\n",
    "numerical = ['Age', 'RoomService','FoodCourt', 'ShoppingMall', 'Spa', 'VRDeck']"
   ]
  },
  {
   "cell_type": "markdown",
   "id": "5f24821d",
   "metadata": {},
   "source": [
    "### 2.3 Treating the Outliers"
   ]
  },
  {
   "cell_type": "code",
   "execution_count": 27,
   "id": "060eb336",
   "metadata": {},
   "outputs": [
    {
     "data": {
      "image/png": "[encoded data removed]",
      "text/plain": [
       "<Figure size 1440x720 with 6 Axes>"
      ]
     },
     "metadata": {
      "needs_background": "light"
     },
     "output_type": "display_data"
    }
   ],
   "source": [
    "rows, columns = 3, 2\n",
    "n_row, n_col = 0, 0\n",
    "c = 0\n",
    "fig, axes = plt.subplots(rows, columns, figsize=(20,10))\n",
    "for i in range(rows):\n",
    "    for j in range(columns):\n",
    "        axes[i][j].boxplot(df[numerical[c]])\n",
    "        axes[i][j].set_title(numerical[c])\n",
    "        c = c + 1\n",
    "    \n",
    "plt.show()"
   ]
  },
  {
   "cell_type": "code",
   "execution_count": 28,
   "id": "7f7faeda",
   "metadata": {},
   "outputs": [
    {
     "data": {
      "text/plain": [
       "<seaborn.axisgrid.FacetGrid at 0x216a1eb3d90>"
      ]
     },
     "execution_count": 28,
     "metadata": {},
     "output_type": "execute_result"
    },
    {
     "data": {
      "image/png": "[encoded data removed]",
      "text/plain": [
       "<Figure size 360x360 with 1 Axes>"
      ]
     },
     "metadata": {
      "needs_background": "light"
     },
     "output_type": "display_data"
    }
   ],
   "source": [
    "sns.displot(df['Age'],kde=True)"
   ]
  },
  {
   "cell_type": "code",
   "execution_count": 29,
   "id": "455fe8a8",
   "metadata": {},
   "outputs": [
    {
     "data": {
      "text/plain": [
       "Text(0, 0.5, 'No of passenger')"
      ]
     },
     "execution_count": 29,
     "metadata": {},
     "output_type": "execute_result"
    },
    {
     "data": {
      "image/png": "[encoded data removed]",
      "text/plain": [
       "<Figure size 432x288 with 1 Axes>"
      ]
     },
     "metadata": {
      "needs_background": "light"
     },
     "output_type": "display_data"
    }
   ],
   "source": [
    "figure=df.Age.hist(bins=50)\n",
    "figure.set_title('Age')\n",
    "figure.set_xlabel('Age')\n",
    "figure.set_ylabel('No of passenger')"
   ]
  },
  {
   "cell_type": "code",
   "execution_count": 30,
   "id": "0025a744",
   "metadata": {},
   "outputs": [
    {
     "data": {
      "text/plain": [
       "count    8693.000000\n",
       "mean       28.834119\n",
       "std        14.486687\n",
       "min         0.000000\n",
       "25%        19.000000\n",
       "50%        27.000000\n",
       "75%        38.000000\n",
       "max        79.000000\n",
       "Name: Age, dtype: float64"
      ]
     },
     "execution_count": 30,
     "metadata": {},
     "output_type": "execute_result"
    }
   ],
   "source": [
    "df['Age'].describe()"
   ]
  },
  {
   "cell_type": "code",
   "execution_count": 31,
   "id": "95fa72cb",
   "metadata": {},
   "outputs": [
    {
     "name": "stdout",
     "output_type": "stream",
     "text": [
      "-14.625942081194879 72.29418089403279 28.834119406418957\n"
     ]
    }
   ],
   "source": [
    "##### Assuming Age follows A Gaussian Distribution we will calculate the boundaries which differentiates the outliers\n",
    "\n",
    "uppper_boundary=df['Age'].mean() + 3* df['Age'].std()\n",
    "lower_boundary=df['Age'].mean() - 3* df['Age'].std()\n",
    "print(lower_boundary,uppper_boundary,df['Age'].mean())"
   ]
  },
  {
   "cell_type": "code",
   "execution_count": 32,
   "id": "d453e3b8",
   "metadata": {},
   "outputs": [],
   "source": [
    "df.loc[df['Age']>=72,'Age']=72"
   ]
  },
  {
   "cell_type": "code",
   "execution_count": 33,
   "id": "c65ed1f5",
   "metadata": {},
   "outputs": [
    {
     "data": {
      "text/plain": [
       "Text(0, 0.5, 'No of passenger')"
      ]
     },
     "execution_count": 33,
     "metadata": {},
     "output_type": "execute_result"
    },
    {
     "data": {
      "image/png": "[encoded data removed]",
      "text/plain": [
       "<Figure size 432x288 with 1 Axes>"
      ]
     },
     "metadata": {
      "needs_background": "light"
     },
     "output_type": "display_data"
    }
   ],
   "source": [
    "figure=df.Age.hist(bins=50)\n",
    "figure.set_title('Age')\n",
    "figure.set_xlabel('Age')\n",
    "figure.set_ylabel('No of passenger')"
   ]
  },
  {
   "cell_type": "markdown",
   "id": "2c823770",
   "metadata": {},
   "source": [
    "### 2.4 Scaling the Data"
   ]
  },
  {
   "cell_type": "markdown",
   "id": "bd8824c2",
   "metadata": {},
   "source": [
    "###### Check distribution of data"
   ]
  },
  {
   "cell_type": "code",
   "execution_count": 34,
   "id": "debff561",
   "metadata": {},
   "outputs": [
    {
     "data": {
      "text/plain": [
       "['Age', 'RoomService', 'FoodCourt', 'ShoppingMall', 'Spa', 'VRDeck']"
      ]
     },
     "execution_count": 34,
     "metadata": {},
     "output_type": "execute_result"
    }
   ],
   "source": [
    "numerical"
   ]
  },
  {
   "cell_type": "code",
   "execution_count": 35,
   "id": "70d66284",
   "metadata": {},
   "outputs": [
    {
     "data": {
      "image/png": "[encoded data removed]",
      "text/plain": [
       "<Figure size 1440x720 with 6 Axes>"
      ]
     },
     "metadata": {
      "needs_background": "light"
     },
     "output_type": "display_data"
    }
   ],
   "source": [
    "rows, columns = 3, 2\n",
    "n_row, n_col = 0, 0\n",
    "c = 0\n",
    "fig, axes = plt.subplots(rows, columns, figsize=(20,10))\n",
    "for i in range(rows):\n",
    "    for j in range(columns):\n",
    "        axes[i][j].hist(df[numerical[c]],bins=30)\n",
    "        axes[i][j].set_title(numerical[c])\n",
    "        c = c + 1\n",
    "    \n",
    "plt.show()"
   ]
  },
  {
   "cell_type": "code",
   "execution_count": 36,
   "id": "46c1a780",
   "metadata": {},
   "outputs": [],
   "source": [
    "def plot_data(series):\n",
    "    plt.figure(figsize=(8,4))\n",
    "    plt.subplot(1,2,1)\n",
    "    series.hist()\n",
    "    plt.subplot(1,2,2)\n",
    "    stat.probplot(series,dist='norm',plot=pylab)\n",
    "    plt.show()\n",
    "\n",
    "def multiple_plot(series):\n",
    "    if 0 in series:\n",
    "        print('Without Transformation')\n",
    "        plot_data(series)\n",
    "        print('Logarithmic Transformation')\n",
    "        plot_data(np.log1p(series))\n",
    "        print('Reciprocal Transformation')\n",
    "        plot_data(1/(series+1))\n",
    "        print('Exponential Transformation')\n",
    "        plot_data(series**(1/1.2))\n",
    "        print('Square Root Transformation')\n",
    "        plot_data(series**(0.5))\n",
    "        print('Boxcox Transformation')\n",
    "        series,parameters=stat.boxcox(series+1)\n",
    "        plot_data(pd.DataFrame(series)[0])\n",
    "    else:\n",
    "        print('Without Transformation')\n",
    "        plot_data(series)\n",
    "        print('Logarithmic Transformation')\n",
    "        plot_data(np.log(series))\n",
    "        print('Reciprocal Transformation')\n",
    "        plot_data(1/series)\n",
    "        print('Exponential Transformation')\n",
    "        plot_data(series**(1/1.2))\n",
    "        print('Square Root Transformation')\n",
    "        plot_data(series**(0.5))\n",
    "        print('Boxcox Transformation')\n",
    "        series,parameters=stat.boxcox(series)\n",
    "        plot_data(pd.DataFrame(series)[0])\n",
    "    plt.show()"
   ]
  },
  {
   "cell_type": "code",
   "execution_count": 37,
   "id": "f2494eac",
   "metadata": {},
   "outputs": [
    {
     "name": "stdout",
     "output_type": "stream",
     "text": [
      "Without Transformation\n"
     ]
    },
    {
     "data": {
      "image/png": "[encoded data removed]",
      "text/plain": [
       "<Figure size 576x288 with 2 Axes>"
      ]
     },
     "metadata": {
      "needs_background": "light"
     },
     "output_type": "display_data"
    },
    {
     "name": "stdout",
     "output_type": "stream",
     "text": [
      "Logarithmic Transformation\n"
     ]
    },
    {
     "data": {
      "image/png": "[encoded data removed]",
      "text/plain": [
       "<Figure size 576x288 with 2 Axes>"
      ]
     },
     "metadata": {
      "needs_background": "light"
     },
     "output_type": "display_data"
    },
    {
     "name": "stdout",
     "output_type": "stream",
     "text": [
      "Reciprocal Transformation\n"
     ]
    },
    {
     "data": {
      "image/png": "[encoded data removed]",
      "text/plain": [
       "<Figure size 576x288 with 2 Axes>"
      ]
     },
     "metadata": {
      "needs_background": "light"
     },
     "output_type": "display_data"
    },
    {
     "name": "stdout",
     "output_type": "stream",
     "text": [
      "Exponential Transformation\n"
     ]
    },
    {
     "data": {
      "image/png": "[encoded data removed]",
      "text/plain": [
       "<Figure size 576x288 with 2 Axes>"
      ]
     },
     "metadata": {
      "needs_background": "light"
     },
     "output_type": "display_data"
    },
    {
     "name": "stdout",
     "output_type": "stream",
     "text": [
      "Square Root Transformation\n"
     ]
    },
    {
     "data": {
      "image/png": "[encoded data removed]",
      "text/plain": [
       "<Figure size 576x288 with 2 Axes>"
      ]
     },
     "metadata": {
      "needs_background": "light"
     },
     "output_type": "display_data"
    },
    {
     "name": "stdout",
     "output_type": "stream",
     "text": [
      "Boxcox Transformation\n"
     ]
    },
    {
     "data": {
      "image/png": "[encoded data removed]",
      "text/plain": [
       "<Figure size 576x288 with 2 Axes>"
      ]
     },
     "metadata": {
      "needs_background": "light"
     },
     "output_type": "display_data"
    }
   ],
   "source": [
    "multiple_plot(df.Age)"
   ]
  },
  {
   "cell_type": "markdown",
   "id": "9613aaf1",
   "metadata": {},
   "source": [
    "It look like the best QQ plot is still the one without transformation."
   ]
  },
  {
   "cell_type": "code",
   "execution_count": 38,
   "id": "fbf5240c",
   "metadata": {},
   "outputs": [
    {
     "name": "stdout",
     "output_type": "stream",
     "text": [
      "Without Transformation\n"
     ]
    },
    {
     "data": {
      "image/png": "[encoded data removed]",
      "text/plain": [
       "<Figure size 576x288 with 2 Axes>"
      ]
     },
     "metadata": {
      "needs_background": "light"
     },
     "output_type": "display_data"
    },
    {
     "name": "stdout",
     "output_type": "stream",
     "text": [
      "Logarithmic Transformation\n"
     ]
    },
    {
     "data": {
      "image/png": "[encoded data removed]",
      "text/plain": [
       "<Figure size 576x288 with 2 Axes>"
      ]
     },
     "metadata": {
      "needs_background": "light"
     },
     "output_type": "display_data"
    },
    {
     "name": "stdout",
     "output_type": "stream",
     "text": [
      "Reciprocal Transformation\n"
     ]
    },
    {
     "data": {
      "image/png": "[encoded data removed]",
      "text/plain": [
       "<Figure size 576x288 with 2 Axes>"
      ]
     },
     "metadata": {
      "needs_background": "light"
     },
     "output_type": "display_data"
    },
    {
     "name": "stdout",
     "output_type": "stream",
     "text": [
      "Exponential Transformation\n"
     ]
    },
    {
     "data": {
      "image/png": "[encoded data removed]",
      "text/plain": [
       "<Figure size 576x288 with 2 Axes>"
      ]
     },
     "metadata": {
      "needs_background": "light"
     },
     "output_type": "display_data"
    },
    {
     "name": "stdout",
     "output_type": "stream",
     "text": [
      "Square Root Transformation\n"
     ]
    },
    {
     "data": {
      "image/png": "[encoded data removed]",
      "text/plain": [
       "<Figure size 576x288 with 2 Axes>"
      ]
     },
     "metadata": {
      "needs_background": "light"
     },
     "output_type": "display_data"
    },
    {
     "name": "stdout",
     "output_type": "stream",
     "text": [
      "Boxcox Transformation\n"
     ]
    },
    {
     "data": {
      "image/png": "[encoded data removed]",
      "text/plain": [
       "<Figure size 576x288 with 2 Axes>"
      ]
     },
     "metadata": {
      "needs_background": "light"
     },
     "output_type": "display_data"
    }
   ],
   "source": [
    "multiple_plot(df.RoomService)"
   ]
  },
  {
   "cell_type": "markdown",
   "id": "4fec3bb7",
   "metadata": {},
   "source": [
    "There is no good transformation so that we can have gaussian distribution. The other bills related columns should also be the same so we can ignore it as right now."
   ]
  },
  {
   "cell_type": "markdown",
   "id": "dbff130c",
   "metadata": {},
   "source": [
    "### 2.5 Feature Importance "
   ]
  },
  {
   "cell_type": "code",
   "execution_count": 39,
   "id": "7dd7fe87",
   "metadata": {},
   "outputs": [],
   "source": [
    "from IPython.display import display"
   ]
  },
  {
   "cell_type": "code",
   "execution_count": 40,
   "id": "3b0bc728",
   "metadata": {},
   "outputs": [],
   "source": [
    "df_group = df[categorical]"
   ]
  },
  {
   "cell_type": "code",
   "execution_count": 41,
   "id": "cf2c930a",
   "metadata": {},
   "outputs": [],
   "source": [
    "transported_mean = df.Transported.mean()"
   ]
  },
  {
   "cell_type": "code",
   "execution_count": 42,
   "id": "5caa4d53",
   "metadata": {},
   "outputs": [
    {
     "data": {
      "text/html": [
       "<div>\n",
       "<style scoped>\n",
       "    .dataframe tbody tr th:only-of-type {\n",
       "        vertical-align: middle;\n",
       "    }\n",
       "\n",
       "    .dataframe tbody tr th {\n",
       "        vertical-align: top;\n",
       "    }\n",
       "\n",
       "    .dataframe thead th {\n",
       "        text-align: right;\n",
       "    }\n",
       "</style>\n",
       "<table border=\"1\" class=\"dataframe\">\n",
       "  <thead>\n",
       "    <tr style=\"text-align: right;\">\n",
       "      <th></th>\n",
       "      <th>mean</th>\n",
       "      <th>count</th>\n",
       "      <th>diff</th>\n",
       "      <th>risk</th>\n",
       "    </tr>\n",
       "    <tr>\n",
       "      <th>HomePlanet</th>\n",
       "      <th></th>\n",
       "      <th></th>\n",
       "      <th></th>\n",
       "      <th></th>\n",
       "    </tr>\n",
       "  </thead>\n",
       "  <tbody>\n",
       "    <tr>\n",
       "      <th>Earth</th>\n",
       "      <td>0.427649</td>\n",
       "      <td>4803</td>\n",
       "      <td>-0.075974</td>\n",
       "      <td>0.849145</td>\n",
       "    </tr>\n",
       "    <tr>\n",
       "      <th>Europa</th>\n",
       "      <td>0.658846</td>\n",
       "      <td>2131</td>\n",
       "      <td>0.155222</td>\n",
       "      <td>1.308210</td>\n",
       "    </tr>\n",
       "    <tr>\n",
       "      <th>Mars</th>\n",
       "      <td>0.523024</td>\n",
       "      <td>1759</td>\n",
       "      <td>0.019401</td>\n",
       "      <td>1.038523</td>\n",
       "    </tr>\n",
       "  </tbody>\n",
       "</table>\n",
       "</div>"
      ],
      "text/plain": [
       "                mean  count      diff      risk\n",
       "HomePlanet                                     \n",
       "Earth       0.427649   4803 -0.075974  0.849145\n",
       "Europa      0.658846   2131  0.155222  1.308210\n",
       "Mars        0.523024   1759  0.019401  1.038523"
      ]
     },
     "metadata": {},
     "output_type": "display_data"
    },
    {
     "data": {
      "text/html": [
       "<div>\n",
       "<style scoped>\n",
       "    .dataframe tbody tr th:only-of-type {\n",
       "        vertical-align: middle;\n",
       "    }\n",
       "\n",
       "    .dataframe tbody tr th {\n",
       "        vertical-align: top;\n",
       "    }\n",
       "\n",
       "    .dataframe thead th {\n",
       "        text-align: right;\n",
       "    }\n",
       "</style>\n",
       "<table border=\"1\" class=\"dataframe\">\n",
       "  <thead>\n",
       "    <tr style=\"text-align: right;\">\n",
       "      <th></th>\n",
       "      <th>mean</th>\n",
       "      <th>count</th>\n",
       "      <th>diff</th>\n",
       "      <th>risk</th>\n",
       "    </tr>\n",
       "    <tr>\n",
       "      <th>Cabin</th>\n",
       "      <th></th>\n",
       "      <th></th>\n",
       "      <th></th>\n",
       "      <th></th>\n",
       "    </tr>\n",
       "  </thead>\n",
       "  <tbody>\n",
       "    <tr>\n",
       "      <th>A/0/P</th>\n",
       "      <td>0.5</td>\n",
       "      <td>2</td>\n",
       "      <td>-0.003624</td>\n",
       "      <td>0.992805</td>\n",
       "    </tr>\n",
       "    <tr>\n",
       "      <th>A/0/S</th>\n",
       "      <td>0.0</td>\n",
       "      <td>2</td>\n",
       "      <td>-0.503624</td>\n",
       "      <td>0.000000</td>\n",
       "    </tr>\n",
       "    <tr>\n",
       "      <th>A/1/S</th>\n",
       "      <td>1.0</td>\n",
       "      <td>3</td>\n",
       "      <td>0.496376</td>\n",
       "      <td>1.985610</td>\n",
       "    </tr>\n",
       "    <tr>\n",
       "      <th>A/10/P</th>\n",
       "      <td>0.0</td>\n",
       "      <td>1</td>\n",
       "      <td>-0.503624</td>\n",
       "      <td>0.000000</td>\n",
       "    </tr>\n",
       "    <tr>\n",
       "      <th>A/10/S</th>\n",
       "      <td>1.0</td>\n",
       "      <td>1</td>\n",
       "      <td>0.496376</td>\n",
       "      <td>1.985610</td>\n",
       "    </tr>\n",
       "    <tr>\n",
       "      <th>...</th>\n",
       "      <td>...</td>\n",
       "      <td>...</td>\n",
       "      <td>...</td>\n",
       "      <td>...</td>\n",
       "    </tr>\n",
       "    <tr>\n",
       "      <th>T/0/P</th>\n",
       "      <td>0.0</td>\n",
       "      <td>1</td>\n",
       "      <td>-0.503624</td>\n",
       "      <td>0.000000</td>\n",
       "    </tr>\n",
       "    <tr>\n",
       "      <th>T/1/P</th>\n",
       "      <td>0.0</td>\n",
       "      <td>1</td>\n",
       "      <td>-0.503624</td>\n",
       "      <td>0.000000</td>\n",
       "    </tr>\n",
       "    <tr>\n",
       "      <th>T/2/P</th>\n",
       "      <td>0.0</td>\n",
       "      <td>1</td>\n",
       "      <td>-0.503624</td>\n",
       "      <td>0.000000</td>\n",
       "    </tr>\n",
       "    <tr>\n",
       "      <th>T/2/S</th>\n",
       "      <td>0.0</td>\n",
       "      <td>1</td>\n",
       "      <td>-0.503624</td>\n",
       "      <td>0.000000</td>\n",
       "    </tr>\n",
       "    <tr>\n",
       "      <th>T/3/P</th>\n",
       "      <td>1.0</td>\n",
       "      <td>1</td>\n",
       "      <td>0.496376</td>\n",
       "      <td>1.985610</td>\n",
       "    </tr>\n",
       "  </tbody>\n",
       "</table>\n",
       "<p>6560 rows × 4 columns</p>\n",
       "</div>"
      ],
      "text/plain": [
       "        mean  count      diff      risk\n",
       "Cabin                                  \n",
       "A/0/P    0.5      2 -0.003624  0.992805\n",
       "A/0/S    0.0      2 -0.503624  0.000000\n",
       "A/1/S    1.0      3  0.496376  1.985610\n",
       "A/10/P   0.0      1 -0.503624  0.000000\n",
       "A/10/S   1.0      1  0.496376  1.985610\n",
       "...      ...    ...       ...       ...\n",
       "T/0/P    0.0      1 -0.503624  0.000000\n",
       "T/1/P    0.0      1 -0.503624  0.000000\n",
       "T/2/P    0.0      1 -0.503624  0.000000\n",
       "T/2/S    0.0      1 -0.503624  0.000000\n",
       "T/3/P    1.0      1  0.496376  1.985610\n",
       "\n",
       "[6560 rows x 4 columns]"
      ]
     },
     "metadata": {},
     "output_type": "display_data"
    },
    {
     "data": {
      "text/html": [
       "<div>\n",
       "<style scoped>\n",
       "    .dataframe tbody tr th:only-of-type {\n",
       "        vertical-align: middle;\n",
       "    }\n",
       "\n",
       "    .dataframe tbody tr th {\n",
       "        vertical-align: top;\n",
       "    }\n",
       "\n",
       "    .dataframe thead th {\n",
       "        text-align: right;\n",
       "    }\n",
       "</style>\n",
       "<table border=\"1\" class=\"dataframe\">\n",
       "  <thead>\n",
       "    <tr style=\"text-align: right;\">\n",
       "      <th></th>\n",
       "      <th>mean</th>\n",
       "      <th>count</th>\n",
       "      <th>diff</th>\n",
       "      <th>risk</th>\n",
       "    </tr>\n",
       "    <tr>\n",
       "      <th>Name</th>\n",
       "      <th></th>\n",
       "      <th></th>\n",
       "      <th></th>\n",
       "      <th></th>\n",
       "    </tr>\n",
       "  </thead>\n",
       "  <tbody>\n",
       "    <tr>\n",
       "      <th>Aard Curle</th>\n",
       "      <td>0.0</td>\n",
       "      <td>1</td>\n",
       "      <td>-0.503624</td>\n",
       "      <td>0.00000</td>\n",
       "    </tr>\n",
       "    <tr>\n",
       "      <th>Aarjel Jaff</th>\n",
       "      <td>0.0</td>\n",
       "      <td>1</td>\n",
       "      <td>-0.503624</td>\n",
       "      <td>0.00000</td>\n",
       "    </tr>\n",
       "    <tr>\n",
       "      <th>Aarjel Rhuba</th>\n",
       "      <td>0.0</td>\n",
       "      <td>1</td>\n",
       "      <td>-0.503624</td>\n",
       "      <td>0.00000</td>\n",
       "    </tr>\n",
       "    <tr>\n",
       "      <th>Aark Ches</th>\n",
       "      <td>0.0</td>\n",
       "      <td>1</td>\n",
       "      <td>-0.503624</td>\n",
       "      <td>0.00000</td>\n",
       "    </tr>\n",
       "    <tr>\n",
       "      <th>Aark Homin</th>\n",
       "      <td>1.0</td>\n",
       "      <td>1</td>\n",
       "      <td>0.496376</td>\n",
       "      <td>1.98561</td>\n",
       "    </tr>\n",
       "    <tr>\n",
       "      <th>...</th>\n",
       "      <td>...</td>\n",
       "      <td>...</td>\n",
       "      <td>...</td>\n",
       "      <td>...</td>\n",
       "    </tr>\n",
       "    <tr>\n",
       "      <th>Zosmark Unaasor</th>\n",
       "      <td>1.0</td>\n",
       "      <td>1</td>\n",
       "      <td>0.496376</td>\n",
       "      <td>1.98561</td>\n",
       "    </tr>\n",
       "    <tr>\n",
       "      <th>Zosmas Ineedeve</th>\n",
       "      <td>1.0</td>\n",
       "      <td>1</td>\n",
       "      <td>0.496376</td>\n",
       "      <td>1.98561</td>\n",
       "    </tr>\n",
       "    <tr>\n",
       "      <th>Zosmas Mormonized</th>\n",
       "      <td>1.0</td>\n",
       "      <td>1</td>\n",
       "      <td>0.496376</td>\n",
       "      <td>1.98561</td>\n",
       "    </tr>\n",
       "    <tr>\n",
       "      <th>Zubeneb Flesping</th>\n",
       "      <td>1.0</td>\n",
       "      <td>1</td>\n",
       "      <td>0.496376</td>\n",
       "      <td>1.98561</td>\n",
       "    </tr>\n",
       "    <tr>\n",
       "      <th>Zubeneb Pasharne</th>\n",
       "      <td>0.0</td>\n",
       "      <td>1</td>\n",
       "      <td>-0.503624</td>\n",
       "      <td>0.00000</td>\n",
       "    </tr>\n",
       "  </tbody>\n",
       "</table>\n",
       "<p>8473 rows × 4 columns</p>\n",
       "</div>"
      ],
      "text/plain": [
       "                   mean  count      diff     risk\n",
       "Name                                             \n",
       "Aard Curle          0.0      1 -0.503624  0.00000\n",
       "Aarjel Jaff         0.0      1 -0.503624  0.00000\n",
       "Aarjel Rhuba        0.0      1 -0.503624  0.00000\n",
       "Aark Ches           0.0      1 -0.503624  0.00000\n",
       "Aark Homin          1.0      1  0.496376  1.98561\n",
       "...                 ...    ...       ...      ...\n",
       "Zosmark Unaasor     1.0      1  0.496376  1.98561\n",
       "Zosmas Ineedeve     1.0      1  0.496376  1.98561\n",
       "Zosmas Mormonized   1.0      1  0.496376  1.98561\n",
       "Zubeneb Flesping    1.0      1  0.496376  1.98561\n",
       "Zubeneb Pasharne    0.0      1 -0.503624  0.00000\n",
       "\n",
       "[8473 rows x 4 columns]"
      ]
     },
     "metadata": {},
     "output_type": "display_data"
    },
    {
     "data": {
      "text/html": [
       "<div>\n",
       "<style scoped>\n",
       "    .dataframe tbody tr th:only-of-type {\n",
       "        vertical-align: middle;\n",
       "    }\n",
       "\n",
       "    .dataframe tbody tr th {\n",
       "        vertical-align: top;\n",
       "    }\n",
       "\n",
       "    .dataframe thead th {\n",
       "        text-align: right;\n",
       "    }\n",
       "</style>\n",
       "<table border=\"1\" class=\"dataframe\">\n",
       "  <thead>\n",
       "    <tr style=\"text-align: right;\">\n",
       "      <th></th>\n",
       "      <th>mean</th>\n",
       "      <th>count</th>\n",
       "      <th>diff</th>\n",
       "      <th>risk</th>\n",
       "    </tr>\n",
       "    <tr>\n",
       "      <th>CryoSleep</th>\n",
       "      <th></th>\n",
       "      <th></th>\n",
       "      <th></th>\n",
       "      <th></th>\n",
       "    </tr>\n",
       "  </thead>\n",
       "  <tbody>\n",
       "    <tr>\n",
       "      <th>False</th>\n",
       "      <td>0.335042</td>\n",
       "      <td>5656</td>\n",
       "      <td>-0.168581</td>\n",
       "      <td>0.665264</td>\n",
       "    </tr>\n",
       "    <tr>\n",
       "      <th>True</th>\n",
       "      <td>0.817583</td>\n",
       "      <td>3037</td>\n",
       "      <td>0.313960</td>\n",
       "      <td>1.623401</td>\n",
       "    </tr>\n",
       "  </tbody>\n",
       "</table>\n",
       "</div>"
      ],
      "text/plain": [
       "               mean  count      diff      risk\n",
       "CryoSleep                                     \n",
       "False      0.335042   5656 -0.168581  0.665264\n",
       "True       0.817583   3037  0.313960  1.623401"
      ]
     },
     "metadata": {},
     "output_type": "display_data"
    },
    {
     "data": {
      "text/html": [
       "<div>\n",
       "<style scoped>\n",
       "    .dataframe tbody tr th:only-of-type {\n",
       "        vertical-align: middle;\n",
       "    }\n",
       "\n",
       "    .dataframe tbody tr th {\n",
       "        vertical-align: top;\n",
       "    }\n",
       "\n",
       "    .dataframe thead th {\n",
       "        text-align: right;\n",
       "    }\n",
       "</style>\n",
       "<table border=\"1\" class=\"dataframe\">\n",
       "  <thead>\n",
       "    <tr style=\"text-align: right;\">\n",
       "      <th></th>\n",
       "      <th>mean</th>\n",
       "      <th>count</th>\n",
       "      <th>diff</th>\n",
       "      <th>risk</th>\n",
       "    </tr>\n",
       "    <tr>\n",
       "      <th>Destination</th>\n",
       "      <th></th>\n",
       "      <th></th>\n",
       "      <th></th>\n",
       "      <th></th>\n",
       "    </tr>\n",
       "  </thead>\n",
       "  <tbody>\n",
       "    <tr>\n",
       "      <th>55 Cancri e</th>\n",
       "      <td>0.610000</td>\n",
       "      <td>1800</td>\n",
       "      <td>0.106376</td>\n",
       "      <td>1.211222</td>\n",
       "    </tr>\n",
       "    <tr>\n",
       "      <th>PSO J318.5-22</th>\n",
       "      <td>0.503769</td>\n",
       "      <td>796</td>\n",
       "      <td>0.000145</td>\n",
       "      <td>1.000288</td>\n",
       "    </tr>\n",
       "    <tr>\n",
       "      <th>TRAPPIST-1e</th>\n",
       "      <td>0.472199</td>\n",
       "      <td>6097</td>\n",
       "      <td>-0.031424</td>\n",
       "      <td>0.937604</td>\n",
       "    </tr>\n",
       "  </tbody>\n",
       "</table>\n",
       "</div>"
      ],
      "text/plain": [
       "                   mean  count      diff      risk\n",
       "Destination                                       \n",
       "55 Cancri e    0.610000   1800  0.106376  1.211222\n",
       "PSO J318.5-22  0.503769    796  0.000145  1.000288\n",
       "TRAPPIST-1e    0.472199   6097 -0.031424  0.937604"
      ]
     },
     "metadata": {},
     "output_type": "display_data"
    },
    {
     "data": {
      "text/html": [
       "<div>\n",
       "<style scoped>\n",
       "    .dataframe tbody tr th:only-of-type {\n",
       "        vertical-align: middle;\n",
       "    }\n",
       "\n",
       "    .dataframe tbody tr th {\n",
       "        vertical-align: top;\n",
       "    }\n",
       "\n",
       "    .dataframe thead th {\n",
       "        text-align: right;\n",
       "    }\n",
       "</style>\n",
       "<table border=\"1\" class=\"dataframe\">\n",
       "  <thead>\n",
       "    <tr style=\"text-align: right;\">\n",
       "      <th></th>\n",
       "      <th>mean</th>\n",
       "      <th>count</th>\n",
       "      <th>diff</th>\n",
       "      <th>risk</th>\n",
       "    </tr>\n",
       "    <tr>\n",
       "      <th>VIP</th>\n",
       "      <th></th>\n",
       "      <th></th>\n",
       "      <th></th>\n",
       "      <th></th>\n",
       "    </tr>\n",
       "  </thead>\n",
       "  <tbody>\n",
       "    <tr>\n",
       "      <th>False</th>\n",
       "      <td>0.506475</td>\n",
       "      <td>8494</td>\n",
       "      <td>0.002852</td>\n",
       "      <td>1.005662</td>\n",
       "    </tr>\n",
       "    <tr>\n",
       "      <th>True</th>\n",
       "      <td>0.381910</td>\n",
       "      <td>199</td>\n",
       "      <td>-0.121714</td>\n",
       "      <td>0.758323</td>\n",
       "    </tr>\n",
       "  </tbody>\n",
       "</table>\n",
       "</div>"
      ],
      "text/plain": [
       "           mean  count      diff      risk\n",
       "VIP                                       \n",
       "False  0.506475   8494  0.002852  1.005662\n",
       "True   0.381910    199 -0.121714  0.758323"
      ]
     },
     "metadata": {},
     "output_type": "display_data"
    },
    {
     "data": {
      "text/html": [
       "<div>\n",
       "<style scoped>\n",
       "    .dataframe tbody tr th:only-of-type {\n",
       "        vertical-align: middle;\n",
       "    }\n",
       "\n",
       "    .dataframe tbody tr th {\n",
       "        vertical-align: top;\n",
       "    }\n",
       "\n",
       "    .dataframe thead th {\n",
       "        text-align: right;\n",
       "    }\n",
       "</style>\n",
       "<table border=\"1\" class=\"dataframe\">\n",
       "  <thead>\n",
       "    <tr style=\"text-align: right;\">\n",
       "      <th></th>\n",
       "      <th>mean</th>\n",
       "      <th>count</th>\n",
       "      <th>diff</th>\n",
       "      <th>risk</th>\n",
       "    </tr>\n",
       "    <tr>\n",
       "      <th>Deck</th>\n",
       "      <th></th>\n",
       "      <th></th>\n",
       "      <th></th>\n",
       "      <th></th>\n",
       "    </tr>\n",
       "  </thead>\n",
       "  <tbody>\n",
       "    <tr>\n",
       "      <th>A</th>\n",
       "      <td>0.496124</td>\n",
       "      <td>258</td>\n",
       "      <td>-0.007500</td>\n",
       "      <td>0.985109</td>\n",
       "    </tr>\n",
       "    <tr>\n",
       "      <th>B</th>\n",
       "      <td>0.726817</td>\n",
       "      <td>798</td>\n",
       "      <td>0.223193</td>\n",
       "      <td>1.443175</td>\n",
       "    </tr>\n",
       "    <tr>\n",
       "      <th>C</th>\n",
       "      <td>0.677546</td>\n",
       "      <td>766</td>\n",
       "      <td>0.173922</td>\n",
       "      <td>1.345341</td>\n",
       "    </tr>\n",
       "    <tr>\n",
       "      <th>D</th>\n",
       "      <td>0.447154</td>\n",
       "      <td>492</td>\n",
       "      <td>-0.056469</td>\n",
       "      <td>0.887874</td>\n",
       "    </tr>\n",
       "    <tr>\n",
       "      <th>E</th>\n",
       "      <td>0.358659</td>\n",
       "      <td>895</td>\n",
       "      <td>-0.144964</td>\n",
       "      <td>0.712157</td>\n",
       "    </tr>\n",
       "    <tr>\n",
       "      <th>F</th>\n",
       "      <td>0.441495</td>\n",
       "      <td>2863</td>\n",
       "      <td>-0.062129</td>\n",
       "      <td>0.876637</td>\n",
       "    </tr>\n",
       "    <tr>\n",
       "      <th>G</th>\n",
       "      <td>0.514144</td>\n",
       "      <td>2616</td>\n",
       "      <td>0.010520</td>\n",
       "      <td>1.020889</td>\n",
       "    </tr>\n",
       "    <tr>\n",
       "      <th>T</th>\n",
       "      <td>0.200000</td>\n",
       "      <td>5</td>\n",
       "      <td>-0.303624</td>\n",
       "      <td>0.397122</td>\n",
       "    </tr>\n",
       "  </tbody>\n",
       "</table>\n",
       "</div>"
      ],
      "text/plain": [
       "          mean  count      diff      risk\n",
       "Deck                                     \n",
       "A     0.496124    258 -0.007500  0.985109\n",
       "B     0.726817    798  0.223193  1.443175\n",
       "C     0.677546    766  0.173922  1.345341\n",
       "D     0.447154    492 -0.056469  0.887874\n",
       "E     0.358659    895 -0.144964  0.712157\n",
       "F     0.441495   2863 -0.062129  0.876637\n",
       "G     0.514144   2616  0.010520  1.020889\n",
       "T     0.200000      5 -0.303624  0.397122"
      ]
     },
     "metadata": {},
     "output_type": "display_data"
    },
    {
     "data": {
      "text/html": [
       "<div>\n",
       "<style scoped>\n",
       "    .dataframe tbody tr th:only-of-type {\n",
       "        vertical-align: middle;\n",
       "    }\n",
       "\n",
       "    .dataframe tbody tr th {\n",
       "        vertical-align: top;\n",
       "    }\n",
       "\n",
       "    .dataframe thead th {\n",
       "        text-align: right;\n",
       "    }\n",
       "</style>\n",
       "<table border=\"1\" class=\"dataframe\">\n",
       "  <thead>\n",
       "    <tr style=\"text-align: right;\">\n",
       "      <th></th>\n",
       "      <th>mean</th>\n",
       "      <th>count</th>\n",
       "      <th>diff</th>\n",
       "      <th>risk</th>\n",
       "    </tr>\n",
       "    <tr>\n",
       "      <th>Side</th>\n",
       "      <th></th>\n",
       "      <th></th>\n",
       "      <th></th>\n",
       "      <th></th>\n",
       "    </tr>\n",
       "  </thead>\n",
       "  <tbody>\n",
       "    <tr>\n",
       "      <th>P</th>\n",
       "      <td>0.452071</td>\n",
       "      <td>4298</td>\n",
       "      <td>-0.051553</td>\n",
       "      <td>0.897636</td>\n",
       "    </tr>\n",
       "    <tr>\n",
       "      <th>S</th>\n",
       "      <td>0.554039</td>\n",
       "      <td>4395</td>\n",
       "      <td>0.050415</td>\n",
       "      <td>1.100105</td>\n",
       "    </tr>\n",
       "  </tbody>\n",
       "</table>\n",
       "</div>"
      ],
      "text/plain": [
       "          mean  count      diff      risk\n",
       "Side                                     \n",
       "P     0.452071   4298 -0.051553  0.897636\n",
       "S     0.554039   4395  0.050415  1.100105"
      ]
     },
     "metadata": {},
     "output_type": "display_data"
    }
   ],
   "source": [
    "for c in categorical:\n",
    "    df_group = df.groupby(c).Transported.agg(['mean','count'])\n",
    "    df_group['diff'] = df_group['mean'] - transported_mean\n",
    "    df_group['risk'] = df_group['mean'] / transported_mean\n",
    "    display(df_group)"
   ]
  },
  {
   "cell_type": "markdown",
   "id": "3f9a3b68",
   "metadata": {},
   "source": [
    "###### Mutual Information"
   ]
  },
  {
   "cell_type": "code",
   "execution_count": 43,
   "id": "6ebcf9b5",
   "metadata": {},
   "outputs": [],
   "source": [
    "from sklearn.metrics import mutual_info_score, normalized_mutual_info_score, adjusted_mutual_info_score, r2_score, mean_squared_error"
   ]
  },
  {
   "cell_type": "code",
   "execution_count": 44,
   "id": "fbc802f3",
   "metadata": {},
   "outputs": [],
   "source": [
    "def fn_mutual_info_score(series):\n",
    "    return mutual_info_score(series,y)\n",
    "\n",
    "def fn_norm_mutual_info_score(series):\n",
    "    return normalized_mutual_info_score(series,y)\n",
    "\n",
    "def fn_adj_mutual_info_score(series):\n",
    "    return adjusted_mutual_info_score(series,y)"
   ]
  },
  {
   "cell_type": "code",
   "execution_count": 45,
   "id": "6dbade19",
   "metadata": {},
   "outputs": [
    {
     "data": {
      "text/html": [
       "<div>\n",
       "<style scoped>\n",
       "    .dataframe tbody tr th:only-of-type {\n",
       "        vertical-align: middle;\n",
       "    }\n",
       "\n",
       "    .dataframe tbody tr th {\n",
       "        vertical-align: top;\n",
       "    }\n",
       "\n",
       "    .dataframe thead th {\n",
       "        text-align: right;\n",
       "    }\n",
       "</style>\n",
       "<table border=\"1\" class=\"dataframe\">\n",
       "  <thead>\n",
       "    <tr style=\"text-align: right;\">\n",
       "      <th></th>\n",
       "      <th>mi</th>\n",
       "      <th>norm_mi</th>\n",
       "      <th>adj_mi</th>\n",
       "    </tr>\n",
       "  </thead>\n",
       "  <tbody>\n",
       "    <tr>\n",
       "      <th>Name</th>\n",
       "      <td>0.676096</td>\n",
       "      <td>0.138997</td>\n",
       "      <td>0.000126</td>\n",
       "    </tr>\n",
       "    <tr>\n",
       "      <th>Cabin</th>\n",
       "      <td>0.542883</td>\n",
       "      <td>0.116143</td>\n",
       "      <td>0.005731</td>\n",
       "    </tr>\n",
       "    <tr>\n",
       "      <th>CryoSleep</th>\n",
       "      <td>0.112254</td>\n",
       "      <td>0.167521</td>\n",
       "      <td>0.167450</td>\n",
       "    </tr>\n",
       "    <tr>\n",
       "      <th>Deck</th>\n",
       "      <td>0.022430</td>\n",
       "      <td>0.019018</td>\n",
       "      <td>0.018675</td>\n",
       "    </tr>\n",
       "    <tr>\n",
       "      <th>HomePlanet</th>\n",
       "      <td>0.018581</td>\n",
       "      <td>0.022004</td>\n",
       "      <td>0.021871</td>\n",
       "    </tr>\n",
       "    <tr>\n",
       "      <th>Destination</th>\n",
       "      <td>0.006113</td>\n",
       "      <td>0.008223</td>\n",
       "      <td>0.008069</td>\n",
       "    </tr>\n",
       "    <tr>\n",
       "      <th>Side</th>\n",
       "      <td>0.005207</td>\n",
       "      <td>0.007513</td>\n",
       "      <td>0.007431</td>\n",
       "    </tr>\n",
       "    <tr>\n",
       "      <th>VIP</th>\n",
       "      <td>0.000700</td>\n",
       "      <td>0.001746</td>\n",
       "      <td>0.001602</td>\n",
       "    </tr>\n",
       "  </tbody>\n",
       "</table>\n",
       "</div>"
      ],
      "text/plain": [
       "                   mi   norm_mi    adj_mi\n",
       "Name         0.676096  0.138997  0.000126\n",
       "Cabin        0.542883  0.116143  0.005731\n",
       "CryoSleep    0.112254  0.167521  0.167450\n",
       "Deck         0.022430  0.019018  0.018675\n",
       "HomePlanet   0.018581  0.022004  0.021871\n",
       "Destination  0.006113  0.008223  0.008069\n",
       "Side         0.005207  0.007513  0.007431\n",
       "VIP          0.000700  0.001746  0.001602"
      ]
     },
     "execution_count": 45,
     "metadata": {},
     "output_type": "execute_result"
    }
   ],
   "source": [
    "y = df.Transported\n",
    "df_temp = df.drop('Transported',axis=1)\n",
    "mi = df_temp[categorical].apply(fn_mutual_info_score)\n",
    "mi =pd.concat([mi,df_temp[categorical].apply(fn_norm_mutual_info_score)],axis=1)\n",
    "mi =pd.concat([mi,df_temp[categorical].apply(fn_adj_mutual_info_score)],axis=1)\n",
    "mi.columns = ['mi','norm_mi','adj_mi']\n",
    "mi.sort_values(by=['mi'],ascending=False)"
   ]
  },
  {
   "cell_type": "markdown",
   "id": "8428208b",
   "metadata": {},
   "source": [
    "We can see that CryoSleep, Deck and HomePlanet have high mutual info score compare to the other  and hence are useful for the model."
   ]
  },
  {
   "cell_type": "markdown",
   "id": "8ff62afe",
   "metadata": {},
   "source": [
    "###### Correlation"
   ]
  },
  {
   "cell_type": "code",
   "execution_count": 46,
   "id": "558c1f45",
   "metadata": {},
   "outputs": [
    {
     "data": {
      "text/plain": [
       "Age            -0.074547\n",
       "RoomService    -0.240188\n",
       "FoodCourt       0.049914\n",
       "ShoppingMall    0.010015\n",
       "Spa            -0.217003\n",
       "VRDeck         -0.203949\n",
       "dtype: float64"
      ]
     },
     "execution_count": 46,
     "metadata": {},
     "output_type": "execute_result"
    }
   ],
   "source": [
    "corr = df[numerical].corrwith(df.Transported)\n",
    "corr"
   ]
  },
  {
   "cell_type": "code",
   "execution_count": 47,
   "id": "12d9b2ae",
   "metadata": {},
   "outputs": [
    {
     "data": {
      "text/plain": [
       "<AxesSubplot:>"
      ]
     },
     "execution_count": 47,
     "metadata": {},
     "output_type": "execute_result"
    },
    {
     "data": {
      "image/png": "[encoded data removed]",
      "text/plain": [
       "<Figure size 1152x576 with 2 Axes>"
      ]
     },
     "metadata": {
      "needs_background": "light"
     },
     "output_type": "display_data"
    }
   ],
   "source": [
    "plt.figure(figsize=(16, 8))\n",
    "sns.heatmap(df[numerical].corr(), annot=True, fmt='.3f')"
   ]
  },
  {
   "cell_type": "markdown",
   "id": "dc032006",
   "metadata": {},
   "source": [
    "# 3. Categorical Encoding"
   ]
  },
  {
   "cell_type": "markdown",
   "id": "123d4194",
   "metadata": {},
   "source": [
    "###### One Hot Encoding"
   ]
  },
  {
   "cell_type": "code",
   "execution_count": 48,
   "id": "0450f0f8",
   "metadata": {},
   "outputs": [
    {
     "data": {
      "text/html": [
       "<div>\n",
       "<style scoped>\n",
       "    .dataframe tbody tr th:only-of-type {\n",
       "        vertical-align: middle;\n",
       "    }\n",
       "\n",
       "    .dataframe tbody tr th {\n",
       "        vertical-align: top;\n",
       "    }\n",
       "\n",
       "    .dataframe thead th {\n",
       "        text-align: right;\n",
       "    }\n",
       "</style>\n",
       "<table border=\"1\" class=\"dataframe\">\n",
       "  <thead>\n",
       "    <tr style=\"text-align: right;\">\n",
       "      <th></th>\n",
       "      <th>HomePlanet_Europa</th>\n",
       "      <th>HomePlanet_Mars</th>\n",
       "      <th>Destination_PSO J318.5-22</th>\n",
       "      <th>Destination_TRAPPIST-1e</th>\n",
       "      <th>Side_S</th>\n",
       "    </tr>\n",
       "  </thead>\n",
       "  <tbody>\n",
       "    <tr>\n",
       "      <th>0</th>\n",
       "      <td>1</td>\n",
       "      <td>0</td>\n",
       "      <td>0</td>\n",
       "      <td>1</td>\n",
       "      <td>0</td>\n",
       "    </tr>\n",
       "    <tr>\n",
       "      <th>1</th>\n",
       "      <td>0</td>\n",
       "      <td>0</td>\n",
       "      <td>0</td>\n",
       "      <td>1</td>\n",
       "      <td>1</td>\n",
       "    </tr>\n",
       "    <tr>\n",
       "      <th>2</th>\n",
       "      <td>1</td>\n",
       "      <td>0</td>\n",
       "      <td>0</td>\n",
       "      <td>1</td>\n",
       "      <td>1</td>\n",
       "    </tr>\n",
       "    <tr>\n",
       "      <th>3</th>\n",
       "      <td>1</td>\n",
       "      <td>0</td>\n",
       "      <td>0</td>\n",
       "      <td>1</td>\n",
       "      <td>1</td>\n",
       "    </tr>\n",
       "    <tr>\n",
       "      <th>4</th>\n",
       "      <td>0</td>\n",
       "      <td>0</td>\n",
       "      <td>0</td>\n",
       "      <td>1</td>\n",
       "      <td>1</td>\n",
       "    </tr>\n",
       "    <tr>\n",
       "      <th>...</th>\n",
       "      <td>...</td>\n",
       "      <td>...</td>\n",
       "      <td>...</td>\n",
       "      <td>...</td>\n",
       "      <td>...</td>\n",
       "    </tr>\n",
       "    <tr>\n",
       "      <th>8688</th>\n",
       "      <td>1</td>\n",
       "      <td>0</td>\n",
       "      <td>0</td>\n",
       "      <td>0</td>\n",
       "      <td>0</td>\n",
       "    </tr>\n",
       "    <tr>\n",
       "      <th>8689</th>\n",
       "      <td>0</td>\n",
       "      <td>0</td>\n",
       "      <td>1</td>\n",
       "      <td>0</td>\n",
       "      <td>1</td>\n",
       "    </tr>\n",
       "    <tr>\n",
       "      <th>8690</th>\n",
       "      <td>0</td>\n",
       "      <td>0</td>\n",
       "      <td>0</td>\n",
       "      <td>1</td>\n",
       "      <td>1</td>\n",
       "    </tr>\n",
       "    <tr>\n",
       "      <th>8691</th>\n",
       "      <td>1</td>\n",
       "      <td>0</td>\n",
       "      <td>0</td>\n",
       "      <td>0</td>\n",
       "      <td>1</td>\n",
       "    </tr>\n",
       "    <tr>\n",
       "      <th>8692</th>\n",
       "      <td>1</td>\n",
       "      <td>0</td>\n",
       "      <td>0</td>\n",
       "      <td>1</td>\n",
       "      <td>1</td>\n",
       "    </tr>\n",
       "  </tbody>\n",
       "</table>\n",
       "<p>8693 rows × 5 columns</p>\n",
       "</div>"
      ],
      "text/plain": [
       "      HomePlanet_Europa  HomePlanet_Mars  Destination_PSO J318.5-22  \\\n",
       "0                     1                0                          0   \n",
       "1                     0                0                          0   \n",
       "2                     1                0                          0   \n",
       "3                     1                0                          0   \n",
       "4                     0                0                          0   \n",
       "...                 ...              ...                        ...   \n",
       "8688                  1                0                          0   \n",
       "8689                  0                0                          1   \n",
       "8690                  0                0                          0   \n",
       "8691                  1                0                          0   \n",
       "8692                  1                0                          0   \n",
       "\n",
       "      Destination_TRAPPIST-1e  Side_S  \n",
       "0                           1       0  \n",
       "1                           1       1  \n",
       "2                           1       1  \n",
       "3                           1       1  \n",
       "4                           1       1  \n",
       "...                       ...     ...  \n",
       "8688                        0       0  \n",
       "8689                        0       1  \n",
       "8690                        1       1  \n",
       "8691                        0       1  \n",
       "8692                        1       1  \n",
       "\n",
       "[8693 rows x 5 columns]"
      ]
     },
     "execution_count": 48,
     "metadata": {},
     "output_type": "execute_result"
    }
   ],
   "source": [
    "df_ohe = pd.get_dummies(df[['HomePlanet','Destination','Side']],drop_first=True)\n",
    "df_ohe"
   ]
  },
  {
   "cell_type": "markdown",
   "id": "e668dc87",
   "metadata": {},
   "source": [
    "###### Label Nominal Encoding"
   ]
  },
  {
   "cell_type": "code",
   "execution_count": 49,
   "id": "e120cd24",
   "metadata": {},
   "outputs": [],
   "source": [
    "deck_dict={'A':0,'B':1,'C':2,'D':3,'E':4,'F':5,'G':6,'T':7}\n",
    "df_lne = df.Deck.map(deck_dict)"
   ]
  },
  {
   "cell_type": "markdown",
   "id": "704c6ca9",
   "metadata": {},
   "source": [
    "###### Bool Encoding"
   ]
  },
  {
   "cell_type": "code",
   "execution_count": 50,
   "id": "5ef65f0d",
   "metadata": {},
   "outputs": [],
   "source": [
    "df['CryoSleep'] = df['CryoSleep'].astype('int')\n",
    "df['VIP'] = df['VIP'].astype('int')\n",
    "df['Transported'] = df['Transported'].astype('int')"
   ]
  },
  {
   "cell_type": "code",
   "execution_count": 51,
   "id": "22a5559d",
   "metadata": {},
   "outputs": [
    {
     "data": {
      "text/plain": [
       "Index(['HomePlanet', 'CryoSleep', 'Cabin', 'Destination', 'Age', 'VIP',\n",
       "       'RoomService', 'FoodCourt', 'ShoppingMall', 'Spa', 'VRDeck', 'Name',\n",
       "       'Transported', 'Deck', 'Side'],\n",
       "      dtype='object')"
      ]
     },
     "execution_count": 51,
     "metadata": {},
     "output_type": "execute_result"
    }
   ],
   "source": [
    "df.columns"
   ]
  },
  {
   "cell_type": "code",
   "execution_count": 52,
   "id": "d21d21b3",
   "metadata": {},
   "outputs": [],
   "source": [
    "df_other = df[['CryoSleep', 'Age', 'VIP','RoomService', 'FoodCourt', 'ShoppingMall', 'Spa', 'VRDeck', 'Transported']]"
   ]
  },
  {
   "cell_type": "code",
   "execution_count": 53,
   "id": "70cdb3a2",
   "metadata": {},
   "outputs": [],
   "source": [
    "df_clean = pd.concat([df_ohe, df_lne,df_other], axis=1, join='inner')"
   ]
  },
  {
   "cell_type": "markdown",
   "id": "6edce391",
   "metadata": {},
   "source": [
    "# 4. Model"
   ]
  },
  {
   "cell_type": "code",
   "execution_count": 54,
   "id": "7be0c1a0",
   "metadata": {},
   "outputs": [],
   "source": [
    "from sklearn.linear_model import LogisticRegression\n",
    "from sklearn.ensemble import RandomForestClassifier\n",
    "from sklearn.feature_extraction import DictVectorizer\n",
    "from sklearn.metrics import classification_report,accuracy_score"
   ]
  },
  {
   "cell_type": "code",
   "execution_count": 55,
   "id": "327133e9",
   "metadata": {},
   "outputs": [],
   "source": [
    "X_train,X_test,y_train,y_test=train_test_split(df_clean.drop('Transported',axis=1),df_clean['Transported'],test_size=0.3,random_state=1)"
   ]
  },
  {
   "cell_type": "code",
   "execution_count": 56,
   "id": "c89bc7e3",
   "metadata": {},
   "outputs": [],
   "source": [
    "def predict_logistic(X_train,y_train,X_test,y_test,C=1):\n",
    "    classifier=LogisticRegression(solver='liblinear', C=C, max_iter=1000)\n",
    "    classifier.fit(X_train,y_train)\n",
    "    y_pred=classifier.predict(X_test)\n",
    "    y_pred1=classifier.predict_proba(X_test)\n",
    "\n",
    "    from sklearn.metrics import accuracy_score,roc_auc_score\n",
    "    print(\"Accuracy_score_predict: {}\".format(accuracy_score(y_test,y_pred)))\n",
    "    print(\"Roc_auc_score_predict_proba: {}\".format(roc_auc_score(y_test,y_pred1[:,1])))\n",
    "\n",
    "def predict_randomforest(X_train,y_train,X_test,y_test):\n",
    "    classifier=RandomForestClassifier()\n",
    "    classifier.fit(X_train,y_train)\n",
    "    y_pred=classifier.predict(X_test)\n",
    "    y_pred1=classifier.predict_proba(X_test)\n",
    "\n",
    "    from sklearn.metrics import accuracy_score,roc_auc_score\n",
    "    print(\"Accuracy_score: {}\".format(accuracy_score(y_test,y_pred)))\n",
    "    print(\"Roc_auc_score: {}\".format(roc_auc_score(y_test,y_pred1[:,1])))"
   ]
  },
  {
   "cell_type": "code",
   "execution_count": 57,
   "id": "40f0c557",
   "metadata": {},
   "outputs": [
    {
     "name": "stdout",
     "output_type": "stream",
     "text": [
      "C:  0.01\n",
      "Accuracy_score_predict: 0.8044478527607362\n",
      "Roc_auc_score_predict_proba: 0.8737730459162698\n",
      "C:  0.1\n",
      "Accuracy_score_predict: 0.7952453987730062\n",
      "Roc_auc_score_predict_proba: 0.873597777264127\n",
      "C:  1\n",
      "Accuracy_score_predict: 0.7960122699386503\n",
      "Roc_auc_score_predict_proba: 0.8732919393476359\n",
      "C:  10\n",
      "Accuracy_score_predict: 0.7952453987730062\n",
      "Roc_auc_score_predict_proba: 0.8732519451585563\n"
     ]
    }
   ],
   "source": [
    "for C in [0.01, 0.1, 1, 10]:\n",
    "    print('C: ',C)\n",
    "    predict_logistic(X_train,y_train,X_test,y_test,C=C)"
   ]
  },
  {
   "cell_type": "code",
   "execution_count": 58,
   "id": "3d65452b",
   "metadata": {},
   "outputs": [
    {
     "name": "stdout",
     "output_type": "stream",
     "text": [
      "Accuracy_score: 0.7948619631901841\n",
      "Roc_auc_score: 0.8674027950056669\n"
     ]
    }
   ],
   "source": [
    "predict_randomforest(X_train,y_train,X_test,y_test)"
   ]
  },
  {
   "cell_type": "markdown",
   "id": "5053d37f",
   "metadata": {},
   "source": [
    "### Feature Selection"
   ]
  },
  {
   "cell_type": "code",
   "execution_count": 59,
   "id": "4ca86577",
   "metadata": {},
   "outputs": [],
   "source": [
    "from sklearn.linear_model import Lasso\n",
    "from sklearn.feature_selection import SelectFromModel"
   ]
  },
  {
   "cell_type": "code",
   "execution_count": 60,
   "id": "663304a2",
   "metadata": {},
   "outputs": [
    {
     "data": {
      "text/plain": [
       "SelectFromModel(estimator=Lasso(alpha=0.005, random_state=0))"
      ]
     },
     "execution_count": 60,
     "metadata": {},
     "output_type": "execute_result"
    }
   ],
   "source": [
    "feature_sel_model = SelectFromModel(Lasso(alpha=0.005, random_state=0))\n",
    "feature_sel_model.fit(X_train, y_train)"
   ]
  },
  {
   "cell_type": "code",
   "execution_count": 61,
   "id": "7ac8328e",
   "metadata": {},
   "outputs": [
    {
     "data": {
      "text/plain": [
       "array([ True,  True, False,  True,  True,  True,  True,  True, False,\n",
       "        True,  True,  True,  True,  True])"
      ]
     },
     "execution_count": 61,
     "metadata": {},
     "output_type": "execute_result"
    }
   ],
   "source": [
    "feature_sel_model.get_support()"
   ]
  },
  {
   "cell_type": "code",
   "execution_count": 62,
   "id": "9580d44c",
   "metadata": {},
   "outputs": [
    {
     "name": "stdout",
     "output_type": "stream",
     "text": [
      "total features: 14\n",
      "selected features: 12\n"
     ]
    }
   ],
   "source": [
    "selected_feat = X_train.columns[(feature_sel_model.get_support())]\n",
    "\n",
    "print('total features: {}'.format((X_train.shape[1])))\n",
    "print('selected features: {}'.format(len(selected_feat)))"
   ]
  },
  {
   "cell_type": "code",
   "execution_count": 63,
   "id": "7183a5b4",
   "metadata": {},
   "outputs": [
    {
     "data": {
      "text/plain": [
       "Index(['HomePlanet_Europa', 'HomePlanet_Mars', 'Destination_TRAPPIST-1e',\n",
       "       'Side_S', 'Deck', 'CryoSleep', 'Age', 'RoomService', 'FoodCourt',\n",
       "       'ShoppingMall', 'Spa', 'VRDeck'],\n",
       "      dtype='object')"
      ]
     },
     "execution_count": 63,
     "metadata": {},
     "output_type": "execute_result"
    }
   ],
   "source": [
    "selected_feat"
   ]
  },
  {
   "cell_type": "code",
   "execution_count": 64,
   "id": "b50b23f1",
   "metadata": {},
   "outputs": [],
   "source": [
    "X_train=X_train[selected_feat]\n",
    "X_test=X_test[selected_feat]"
   ]
  },
  {
   "cell_type": "code",
   "execution_count": 65,
   "id": "93815cbf",
   "metadata": {},
   "outputs": [
    {
     "name": "stdout",
     "output_type": "stream",
     "text": [
      "C:  0.01\n",
      "Accuracy_score_predict: 0.803680981595092\n",
      "Roc_auc_score_predict_proba: 0.8735913076158934\n",
      "C:  0.1\n",
      "Accuracy_score_predict: 0.7960122699386503\n",
      "Roc_auc_score_predict_proba: 0.873400747067926\n",
      "C:  1\n",
      "Accuracy_score_predict: 0.7956288343558282\n",
      "Roc_auc_score_predict_proba: 0.8731260810929236\n",
      "C:  10\n",
      "Accuracy_score_predict: 0.7952453987730062\n",
      "Roc_auc_score_predict_proba: 0.873107848447902\n"
     ]
    }
   ],
   "source": [
    "for C in [0.01, 0.1, 1, 10]:\n",
    "    print('C: ',C)\n",
    "    predict_logistic(X_train,y_train,X_test,y_test,C=C)"
   ]
  },
  {
   "cell_type": "code",
   "execution_count": 66,
   "id": "272f58b2",
   "metadata": {},
   "outputs": [
    {
     "name": "stdout",
     "output_type": "stream",
     "text": [
      "Accuracy_score: 0.799079754601227\n",
      "Roc_auc_score: 0.8682065017612148\n"
     ]
    }
   ],
   "source": [
    "predict_randomforest(X_train,y_train,X_test,y_test)"
   ]
  },
  {
   "cell_type": "markdown",
   "id": "50408c2a",
   "metadata": {},
   "source": [
    "### Feature Scaling"
   ]
  },
  {
   "cell_type": "code",
   "execution_count": 67,
   "id": "a5596ad9",
   "metadata": {},
   "outputs": [],
   "source": [
    "from sklearn.preprocessing import MinMaxScaler"
   ]
  },
  {
   "cell_type": "code",
   "execution_count": 68,
   "id": "14aa4a8d",
   "metadata": {},
   "outputs": [
    {
     "data": {
      "text/plain": [
       "MinMaxScaler()"
      ]
     },
     "execution_count": 68,
     "metadata": {},
     "output_type": "execute_result"
    }
   ],
   "source": [
    "scaler=MinMaxScaler()\n",
    "scaler.fit(df[numerical])"
   ]
  },
  {
   "cell_type": "code",
   "execution_count": 69,
   "id": "7ba3acf5",
   "metadata": {},
   "outputs": [],
   "source": [
    "df_num = pd.DataFrame(scaler.transform(df[numerical]),columns=numerical)"
   ]
  },
  {
   "cell_type": "code",
   "execution_count": 70,
   "id": "43a3177b",
   "metadata": {},
   "outputs": [],
   "source": [
    "df_clean_scaled = pd.concat([df_num, df_clean.drop(numerical,axis=1)], axis=1, join='inner')"
   ]
  },
  {
   "cell_type": "code",
   "execution_count": 71,
   "id": "c2b60922",
   "metadata": {},
   "outputs": [
    {
     "data": {
      "text/html": [
       "<div>\n",
       "<style scoped>\n",
       "    .dataframe tbody tr th:only-of-type {\n",
       "        vertical-align: middle;\n",
       "    }\n",
       "\n",
       "    .dataframe tbody tr th {\n",
       "        vertical-align: top;\n",
       "    }\n",
       "\n",
       "    .dataframe thead th {\n",
       "        text-align: right;\n",
       "    }\n",
       "</style>\n",
       "<table border=\"1\" class=\"dataframe\">\n",
       "  <thead>\n",
       "    <tr style=\"text-align: right;\">\n",
       "      <th></th>\n",
       "      <th>Age</th>\n",
       "      <th>RoomService</th>\n",
       "      <th>FoodCourt</th>\n",
       "      <th>ShoppingMall</th>\n",
       "      <th>Spa</th>\n",
       "      <th>VRDeck</th>\n",
       "      <th>HomePlanet_Europa</th>\n",
       "      <th>HomePlanet_Mars</th>\n",
       "      <th>Destination_PSO J318.5-22</th>\n",
       "      <th>Destination_TRAPPIST-1e</th>\n",
       "      <th>Side_S</th>\n",
       "      <th>Deck</th>\n",
       "      <th>CryoSleep</th>\n",
       "      <th>VIP</th>\n",
       "      <th>Transported</th>\n",
       "    </tr>\n",
       "  </thead>\n",
       "  <tbody>\n",
       "    <tr>\n",
       "      <th>0</th>\n",
       "      <td>0.541667</td>\n",
       "      <td>0.000000</td>\n",
       "      <td>0.000000</td>\n",
       "      <td>0.000000</td>\n",
       "      <td>0.000000</td>\n",
       "      <td>0.000000</td>\n",
       "      <td>1</td>\n",
       "      <td>0</td>\n",
       "      <td>0</td>\n",
       "      <td>1</td>\n",
       "      <td>0</td>\n",
       "      <td>1</td>\n",
       "      <td>0</td>\n",
       "      <td>0</td>\n",
       "      <td>0</td>\n",
       "    </tr>\n",
       "    <tr>\n",
       "      <th>1</th>\n",
       "      <td>0.333333</td>\n",
       "      <td>0.007608</td>\n",
       "      <td>0.000302</td>\n",
       "      <td>0.001064</td>\n",
       "      <td>0.024500</td>\n",
       "      <td>0.001823</td>\n",
       "      <td>0</td>\n",
       "      <td>0</td>\n",
       "      <td>0</td>\n",
       "      <td>1</td>\n",
       "      <td>1</td>\n",
       "      <td>5</td>\n",
       "      <td>0</td>\n",
       "      <td>0</td>\n",
       "      <td>1</td>\n",
       "    </tr>\n",
       "    <tr>\n",
       "      <th>2</th>\n",
       "      <td>0.805556</td>\n",
       "      <td>0.003001</td>\n",
       "      <td>0.119948</td>\n",
       "      <td>0.000000</td>\n",
       "      <td>0.299670</td>\n",
       "      <td>0.002030</td>\n",
       "      <td>1</td>\n",
       "      <td>0</td>\n",
       "      <td>0</td>\n",
       "      <td>1</td>\n",
       "      <td>1</td>\n",
       "      <td>0</td>\n",
       "      <td>0</td>\n",
       "      <td>1</td>\n",
       "      <td>0</td>\n",
       "    </tr>\n",
       "    <tr>\n",
       "      <th>3</th>\n",
       "      <td>0.458333</td>\n",
       "      <td>0.000000</td>\n",
       "      <td>0.043035</td>\n",
       "      <td>0.015793</td>\n",
       "      <td>0.148563</td>\n",
       "      <td>0.007997</td>\n",
       "      <td>1</td>\n",
       "      <td>0</td>\n",
       "      <td>0</td>\n",
       "      <td>1</td>\n",
       "      <td>1</td>\n",
       "      <td>0</td>\n",
       "      <td>0</td>\n",
       "      <td>0</td>\n",
       "      <td>0</td>\n",
       "    </tr>\n",
       "    <tr>\n",
       "      <th>4</th>\n",
       "      <td>0.222222</td>\n",
       "      <td>0.021149</td>\n",
       "      <td>0.002348</td>\n",
       "      <td>0.006428</td>\n",
       "      <td>0.025214</td>\n",
       "      <td>0.000083</td>\n",
       "      <td>0</td>\n",
       "      <td>0</td>\n",
       "      <td>0</td>\n",
       "      <td>1</td>\n",
       "      <td>1</td>\n",
       "      <td>5</td>\n",
       "      <td>0</td>\n",
       "      <td>0</td>\n",
       "      <td>1</td>\n",
       "    </tr>\n",
       "    <tr>\n",
       "      <th>...</th>\n",
       "      <td>...</td>\n",
       "      <td>...</td>\n",
       "      <td>...</td>\n",
       "      <td>...</td>\n",
       "      <td>...</td>\n",
       "      <td>...</td>\n",
       "      <td>...</td>\n",
       "      <td>...</td>\n",
       "      <td>...</td>\n",
       "      <td>...</td>\n",
       "      <td>...</td>\n",
       "      <td>...</td>\n",
       "      <td>...</td>\n",
       "      <td>...</td>\n",
       "      <td>...</td>\n",
       "    </tr>\n",
       "    <tr>\n",
       "      <th>8688</th>\n",
       "      <td>0.569444</td>\n",
       "      <td>0.000000</td>\n",
       "      <td>0.228726</td>\n",
       "      <td>0.000000</td>\n",
       "      <td>0.073322</td>\n",
       "      <td>0.003066</td>\n",
       "      <td>1</td>\n",
       "      <td>0</td>\n",
       "      <td>0</td>\n",
       "      <td>0</td>\n",
       "      <td>0</td>\n",
       "      <td>0</td>\n",
       "      <td>0</td>\n",
       "      <td>1</td>\n",
       "      <td>0</td>\n",
       "    </tr>\n",
       "    <tr>\n",
       "      <th>8689</th>\n",
       "      <td>0.250000</td>\n",
       "      <td>0.000000</td>\n",
       "      <td>0.000000</td>\n",
       "      <td>0.000000</td>\n",
       "      <td>0.000000</td>\n",
       "      <td>0.000000</td>\n",
       "      <td>0</td>\n",
       "      <td>0</td>\n",
       "      <td>1</td>\n",
       "      <td>0</td>\n",
       "      <td>1</td>\n",
       "      <td>6</td>\n",
       "      <td>1</td>\n",
       "      <td>0</td>\n",
       "      <td>0</td>\n",
       "    </tr>\n",
       "    <tr>\n",
       "      <th>8690</th>\n",
       "      <td>0.361111</td>\n",
       "      <td>0.000000</td>\n",
       "      <td>0.000000</td>\n",
       "      <td>0.079687</td>\n",
       "      <td>0.000045</td>\n",
       "      <td>0.000000</td>\n",
       "      <td>0</td>\n",
       "      <td>0</td>\n",
       "      <td>0</td>\n",
       "      <td>1</td>\n",
       "      <td>1</td>\n",
       "      <td>6</td>\n",
       "      <td>0</td>\n",
       "      <td>0</td>\n",
       "      <td>1</td>\n",
       "    </tr>\n",
       "    <tr>\n",
       "      <th>8691</th>\n",
       "      <td>0.444444</td>\n",
       "      <td>0.000000</td>\n",
       "      <td>0.035186</td>\n",
       "      <td>0.000000</td>\n",
       "      <td>0.015753</td>\n",
       "      <td>0.134049</td>\n",
       "      <td>1</td>\n",
       "      <td>0</td>\n",
       "      <td>0</td>\n",
       "      <td>0</td>\n",
       "      <td>1</td>\n",
       "      <td>4</td>\n",
       "      <td>0</td>\n",
       "      <td>0</td>\n",
       "      <td>0</td>\n",
       "    </tr>\n",
       "    <tr>\n",
       "      <th>8692</th>\n",
       "      <td>0.611111</td>\n",
       "      <td>0.008795</td>\n",
       "      <td>0.157247</td>\n",
       "      <td>0.000000</td>\n",
       "      <td>0.000000</td>\n",
       "      <td>0.000497</td>\n",
       "      <td>1</td>\n",
       "      <td>0</td>\n",
       "      <td>0</td>\n",
       "      <td>1</td>\n",
       "      <td>1</td>\n",
       "      <td>4</td>\n",
       "      <td>0</td>\n",
       "      <td>0</td>\n",
       "      <td>1</td>\n",
       "    </tr>\n",
       "  </tbody>\n",
       "</table>\n",
       "<p>8693 rows × 15 columns</p>\n",
       "</div>"
      ],
      "text/plain": [
       "           Age  RoomService  FoodCourt  ShoppingMall       Spa    VRDeck  \\\n",
       "0     0.541667     0.000000   0.000000      0.000000  0.000000  0.000000   \n",
       "1     0.333333     0.007608   0.000302      0.001064  0.024500  0.001823   \n",
       "2     0.805556     0.003001   0.119948      0.000000  0.299670  0.002030   \n",
       "3     0.458333     0.000000   0.043035      0.015793  0.148563  0.007997   \n",
       "4     0.222222     0.021149   0.002348      0.006428  0.025214  0.000083   \n",
       "...        ...          ...        ...           ...       ...       ...   \n",
       "8688  0.569444     0.000000   0.228726      0.000000  0.073322  0.003066   \n",
       "8689  0.250000     0.000000   0.000000      0.000000  0.000000  0.000000   \n",
       "8690  0.361111     0.000000   0.000000      0.079687  0.000045  0.000000   \n",
       "8691  0.444444     0.000000   0.035186      0.000000  0.015753  0.134049   \n",
       "8692  0.611111     0.008795   0.157247      0.000000  0.000000  0.000497   \n",
       "\n",
       "      HomePlanet_Europa  HomePlanet_Mars  Destination_PSO J318.5-22  \\\n",
       "0                     1                0                          0   \n",
       "1                     0                0                          0   \n",
       "2                     1                0                          0   \n",
       "3                     1                0                          0   \n",
       "4                     0                0                          0   \n",
       "...                 ...              ...                        ...   \n",
       "8688                  1                0                          0   \n",
       "8689                  0                0                          1   \n",
       "8690                  0                0                          0   \n",
       "8691                  1                0                          0   \n",
       "8692                  1                0                          0   \n",
       "\n",
       "      Destination_TRAPPIST-1e  Side_S  Deck  CryoSleep  VIP  Transported  \n",
       "0                           1       0     1          0    0            0  \n",
       "1                           1       1     5          0    0            1  \n",
       "2                           1       1     0          0    1            0  \n",
       "3                           1       1     0          0    0            0  \n",
       "4                           1       1     5          0    0            1  \n",
       "...                       ...     ...   ...        ...  ...          ...  \n",
       "8688                        0       0     0          0    1            0  \n",
       "8689                        0       1     6          1    0            0  \n",
       "8690                        1       1     6          0    0            1  \n",
       "8691                        0       1     4          0    0            0  \n",
       "8692                        1       1     4          0    0            1  \n",
       "\n",
       "[8693 rows x 15 columns]"
      ]
     },
     "execution_count": 71,
     "metadata": {},
     "output_type": "execute_result"
    }
   ],
   "source": [
    "df_clean_scaled"
   ]
  },
  {
   "cell_type": "code",
   "execution_count": 72,
   "id": "4dc368cd",
   "metadata": {},
   "outputs": [],
   "source": [
    "X_train,X_test,y_train,y_test=train_test_split(df_clean_scaled.drop('Transported',axis=1),df_clean['Transported'],test_size=0.3)"
   ]
  },
  {
   "cell_type": "code",
   "execution_count": 73,
   "id": "45182a54",
   "metadata": {},
   "outputs": [
    {
     "name": "stdout",
     "output_type": "stream",
     "text": [
      "C:  0.01\n",
      "Accuracy_score_predict: 0.727760736196319\n",
      "Roc_auc_score_predict_proba: 0.771951393070872\n",
      "C:  0.1\n",
      "Accuracy_score_predict: 0.7480828220858896\n",
      "Roc_auc_score_predict_proba: 0.8000080568519703\n",
      "C:  1\n",
      "Accuracy_score_predict: 0.7661042944785276\n",
      "Roc_auc_score_predict_proba: 0.8472917803643342\n",
      "C:  10\n",
      "Accuracy_score_predict: 0.776840490797546\n",
      "Roc_auc_score_predict_proba: 0.8643217306823743\n"
     ]
    }
   ],
   "source": [
    "for C in [0.01, 0.1, 1, 10]:\n",
    "    print('C: ',C)\n",
    "    predict_logistic(X_train,y_train,X_test,y_test,C=C)"
   ]
  },
  {
   "cell_type": "code",
   "execution_count": 74,
   "id": "6b0d38ef",
   "metadata": {},
   "outputs": [
    {
     "name": "stdout",
     "output_type": "stream",
     "text": [
      "Accuracy_score: 0.7756901840490797\n",
      "Roc_auc_score: 0.8473782297978848\n"
     ]
    }
   ],
   "source": [
    "predict_randomforest(X_train,y_train,X_test,y_test)"
   ]
  },
  {
   "cell_type": "markdown",
   "id": "47d3d945",
   "metadata": {},
   "source": [
    "### Feature Selection Again"
   ]
  },
  {
   "cell_type": "code",
   "execution_count": 75,
   "id": "5de9e2aa",
   "metadata": {},
   "outputs": [],
   "source": [
    "X_train=X_train[selected_feat]\n",
    "X_test=X_test[selected_feat]"
   ]
  },
  {
   "cell_type": "code",
   "execution_count": 76,
   "id": "3f6e47a2",
   "metadata": {},
   "outputs": [
    {
     "name": "stdout",
     "output_type": "stream",
     "text": [
      "C:  0.01\n",
      "Accuracy_score_predict: 0.7273773006134969\n",
      "Roc_auc_score_predict_proba: 0.7708343134856411\n",
      "C:  0.1\n",
      "Accuracy_score_predict: 0.7519171779141104\n",
      "Roc_auc_score_predict_proba: 0.7981446892995596\n",
      "C:  1\n",
      "Accuracy_score_predict: 0.7641871165644172\n",
      "Roc_auc_score_predict_proba: 0.8461176559147879\n",
      "C:  10\n",
      "Accuracy_score_predict: 0.776457055214724\n",
      "Roc_auc_score_predict_proba: 0.8634692922202566\n"
     ]
    }
   ],
   "source": [
    "for C in [0.01, 0.1, 1, 10]:\n",
    "    print('C: ',C)\n",
    "    predict_logistic(X_train,y_train,X_test,y_test,C=C)"
   ]
  },
  {
   "cell_type": "code",
   "execution_count": 77,
   "id": "b8f7f532",
   "metadata": {},
   "outputs": [
    {
     "name": "stdout",
     "output_type": "stream",
     "text": [
      "Accuracy_score: 0.7802914110429447\n",
      "Roc_auc_score: 0.852059143174376\n"
     ]
    }
   ],
   "source": [
    "predict_randomforest(X_train,y_train,X_test,y_test)"
   ]
  },
  {
   "cell_type": "markdown",
   "id": "022c4413",
   "metadata": {},
   "source": [
    "# Conclusion"
   ]
  },
  {
   "cell_type": "markdown",
   "id": "80fb62c5",
   "metadata": {},
   "source": [
    "Out of all of the model, the best model is the one using logistic regression(C=0.01) and without feature scaling and feature selection."
   ]
  },
  {
   "cell_type": "code",
   "execution_count": 78,
   "id": "d734a7e9",
   "metadata": {},
   "outputs": [],
   "source": [
    "X_train,X_test,y_train,y_test=train_test_split(df_clean.drop('Transported',axis=1),df_clean['Transported'],test_size=0.3,random_state=1)"
   ]
  },
  {
   "cell_type": "code",
   "execution_count": 79,
   "id": "0685b07c",
   "metadata": {},
   "outputs": [
    {
     "name": "stdout",
     "output_type": "stream",
     "text": [
      "Accuracy_score_predict: 0.8044478527607362\n",
      "Roc_auc_score_predict_proba: 0.8737730459162698\n"
     ]
    }
   ],
   "source": [
    "classifier=LogisticRegression(solver='liblinear', C=0.01, max_iter=1000)\n",
    "classifier.fit(X_train,y_train)\n",
    "y_pred=classifier.predict(X_test)\n",
    "y_pred1=classifier.predict_proba(X_test)\n",
    "\n",
    "from sklearn.metrics import accuracy_score,roc_auc_score\n",
    "print(\"Accuracy_score_predict: {}\".format(accuracy_score(y_test,y_pred)))\n",
    "print(\"Roc_auc_score_predict_proba: {}\".format(roc_auc_score(y_test,y_pred1[:,1])))"
   ]
  },
  {
   "cell_type": "code",
   "execution_count": 80,
   "id": "9d744f13",
   "metadata": {},
   "outputs": [
    {
     "data": {
      "text/html": [
       "<div>\n",
       "<style scoped>\n",
       "    .dataframe tbody tr th:only-of-type {\n",
       "        vertical-align: middle;\n",
       "    }\n",
       "\n",
       "    .dataframe tbody tr th {\n",
       "        vertical-align: top;\n",
       "    }\n",
       "\n",
       "    .dataframe thead th {\n",
       "        text-align: right;\n",
       "    }\n",
       "</style>\n",
       "<table border=\"1\" class=\"dataframe\">\n",
       "  <thead>\n",
       "    <tr style=\"text-align: right;\">\n",
       "      <th></th>\n",
       "      <th>HomePlanet_Europa</th>\n",
       "      <th>HomePlanet_Mars</th>\n",
       "      <th>Destination_PSO J318.5-22</th>\n",
       "      <th>Destination_TRAPPIST-1e</th>\n",
       "      <th>Side_S</th>\n",
       "      <th>Deck</th>\n",
       "      <th>CryoSleep</th>\n",
       "      <th>Age</th>\n",
       "      <th>VIP</th>\n",
       "      <th>RoomService</th>\n",
       "      <th>FoodCourt</th>\n",
       "      <th>ShoppingMall</th>\n",
       "      <th>Spa</th>\n",
       "      <th>VRDeck</th>\n",
       "    </tr>\n",
       "  </thead>\n",
       "  <tbody>\n",
       "    <tr>\n",
       "      <th>1454</th>\n",
       "      <td>1</td>\n",
       "      <td>0</td>\n",
       "      <td>0</td>\n",
       "      <td>0</td>\n",
       "      <td>1</td>\n",
       "      <td>0</td>\n",
       "      <td>0</td>\n",
       "      <td>32.0</td>\n",
       "      <td>0</td>\n",
       "      <td>54.0</td>\n",
       "      <td>3782.0</td>\n",
       "      <td>0.0</td>\n",
       "      <td>21.0</td>\n",
       "      <td>5.0</td>\n",
       "    </tr>\n",
       "    <tr>\n",
       "      <th>218</th>\n",
       "      <td>0</td>\n",
       "      <td>0</td>\n",
       "      <td>1</td>\n",
       "      <td>0</td>\n",
       "      <td>1</td>\n",
       "      <td>6</td>\n",
       "      <td>1</td>\n",
       "      <td>27.0</td>\n",
       "      <td>0</td>\n",
       "      <td>0.0</td>\n",
       "      <td>0.0</td>\n",
       "      <td>0.0</td>\n",
       "      <td>0.0</td>\n",
       "      <td>0.0</td>\n",
       "    </tr>\n",
       "    <tr>\n",
       "      <th>7866</th>\n",
       "      <td>0</td>\n",
       "      <td>0</td>\n",
       "      <td>1</td>\n",
       "      <td>0</td>\n",
       "      <td>1</td>\n",
       "      <td>5</td>\n",
       "      <td>0</td>\n",
       "      <td>24.0</td>\n",
       "      <td>0</td>\n",
       "      <td>86.0</td>\n",
       "      <td>669.0</td>\n",
       "      <td>1.0</td>\n",
       "      <td>0.0</td>\n",
       "      <td>0.0</td>\n",
       "    </tr>\n",
       "    <tr>\n",
       "      <th>7622</th>\n",
       "      <td>0</td>\n",
       "      <td>0</td>\n",
       "      <td>0</td>\n",
       "      <td>1</td>\n",
       "      <td>1</td>\n",
       "      <td>6</td>\n",
       "      <td>1</td>\n",
       "      <td>38.0</td>\n",
       "      <td>0</td>\n",
       "      <td>0.0</td>\n",
       "      <td>0.0</td>\n",
       "      <td>0.0</td>\n",
       "      <td>0.0</td>\n",
       "      <td>0.0</td>\n",
       "    </tr>\n",
       "    <tr>\n",
       "      <th>4108</th>\n",
       "      <td>0</td>\n",
       "      <td>1</td>\n",
       "      <td>1</td>\n",
       "      <td>0</td>\n",
       "      <td>0</td>\n",
       "      <td>5</td>\n",
       "      <td>0</td>\n",
       "      <td>32.0</td>\n",
       "      <td>0</td>\n",
       "      <td>192.0</td>\n",
       "      <td>0.0</td>\n",
       "      <td>441.0</td>\n",
       "      <td>18.0</td>\n",
       "      <td>0.0</td>\n",
       "    </tr>\n",
       "    <tr>\n",
       "      <th>...</th>\n",
       "      <td>...</td>\n",
       "      <td>...</td>\n",
       "      <td>...</td>\n",
       "      <td>...</td>\n",
       "      <td>...</td>\n",
       "      <td>...</td>\n",
       "      <td>...</td>\n",
       "      <td>...</td>\n",
       "      <td>...</td>\n",
       "      <td>...</td>\n",
       "      <td>...</td>\n",
       "      <td>...</td>\n",
       "      <td>...</td>\n",
       "      <td>...</td>\n",
       "    </tr>\n",
       "    <tr>\n",
       "      <th>1930</th>\n",
       "      <td>0</td>\n",
       "      <td>0</td>\n",
       "      <td>0</td>\n",
       "      <td>1</td>\n",
       "      <td>0</td>\n",
       "      <td>5</td>\n",
       "      <td>0</td>\n",
       "      <td>13.0</td>\n",
       "      <td>0</td>\n",
       "      <td>12.0</td>\n",
       "      <td>0.0</td>\n",
       "      <td>0.0</td>\n",
       "      <td>0.0</td>\n",
       "      <td>1963.0</td>\n",
       "    </tr>\n",
       "    <tr>\n",
       "      <th>7620</th>\n",
       "      <td>0</td>\n",
       "      <td>0</td>\n",
       "      <td>0</td>\n",
       "      <td>1</td>\n",
       "      <td>0</td>\n",
       "      <td>4</td>\n",
       "      <td>0</td>\n",
       "      <td>25.0</td>\n",
       "      <td>0</td>\n",
       "      <td>11.0</td>\n",
       "      <td>780.0</td>\n",
       "      <td>0.0</td>\n",
       "      <td>0.0</td>\n",
       "      <td>0.0</td>\n",
       "    </tr>\n",
       "    <tr>\n",
       "      <th>7503</th>\n",
       "      <td>0</td>\n",
       "      <td>1</td>\n",
       "      <td>0</td>\n",
       "      <td>1</td>\n",
       "      <td>1</td>\n",
       "      <td>5</td>\n",
       "      <td>1</td>\n",
       "      <td>29.0</td>\n",
       "      <td>0</td>\n",
       "      <td>0.0</td>\n",
       "      <td>0.0</td>\n",
       "      <td>0.0</td>\n",
       "      <td>0.0</td>\n",
       "      <td>0.0</td>\n",
       "    </tr>\n",
       "    <tr>\n",
       "      <th>6323</th>\n",
       "      <td>0</td>\n",
       "      <td>0</td>\n",
       "      <td>1</td>\n",
       "      <td>0</td>\n",
       "      <td>0</td>\n",
       "      <td>6</td>\n",
       "      <td>1</td>\n",
       "      <td>32.0</td>\n",
       "      <td>0</td>\n",
       "      <td>0.0</td>\n",
       "      <td>0.0</td>\n",
       "      <td>0.0</td>\n",
       "      <td>0.0</td>\n",
       "      <td>0.0</td>\n",
       "    </tr>\n",
       "    <tr>\n",
       "      <th>4204</th>\n",
       "      <td>0</td>\n",
       "      <td>0</td>\n",
       "      <td>0</td>\n",
       "      <td>1</td>\n",
       "      <td>1</td>\n",
       "      <td>6</td>\n",
       "      <td>0</td>\n",
       "      <td>9.0</td>\n",
       "      <td>0</td>\n",
       "      <td>0.0</td>\n",
       "      <td>0.0</td>\n",
       "      <td>0.0</td>\n",
       "      <td>0.0</td>\n",
       "      <td>0.0</td>\n",
       "    </tr>\n",
       "  </tbody>\n",
       "</table>\n",
       "<p>2608 rows × 14 columns</p>\n",
       "</div>"
      ],
      "text/plain": [
       "      HomePlanet_Europa  HomePlanet_Mars  Destination_PSO J318.5-22  \\\n",
       "1454                  1                0                          0   \n",
       "218                   0                0                          1   \n",
       "7866                  0                0                          1   \n",
       "7622                  0                0                          0   \n",
       "4108                  0                1                          1   \n",
       "...                 ...              ...                        ...   \n",
       "1930                  0                0                          0   \n",
       "7620                  0                0                          0   \n",
       "7503                  0                1                          0   \n",
       "6323                  0                0                          1   \n",
       "4204                  0                0                          0   \n",
       "\n",
       "      Destination_TRAPPIST-1e  Side_S  Deck  CryoSleep   Age  VIP  \\\n",
       "1454                        0       1     0          0  32.0    0   \n",
       "218                         0       1     6          1  27.0    0   \n",
       "7866                        0       1     5          0  24.0    0   \n",
       "7622                        1       1     6          1  38.0    0   \n",
       "4108                        0       0     5          0  32.0    0   \n",
       "...                       ...     ...   ...        ...   ...  ...   \n",
       "1930                        1       0     5          0  13.0    0   \n",
       "7620                        1       0     4          0  25.0    0   \n",
       "7503                        1       1     5          1  29.0    0   \n",
       "6323                        0       0     6          1  32.0    0   \n",
       "4204                        1       1     6          0   9.0    0   \n",
       "\n",
       "      RoomService  FoodCourt  ShoppingMall   Spa  VRDeck  \n",
       "1454         54.0     3782.0           0.0  21.0     5.0  \n",
       "218           0.0        0.0           0.0   0.0     0.0  \n",
       "7866         86.0      669.0           1.0   0.0     0.0  \n",
       "7622          0.0        0.0           0.0   0.0     0.0  \n",
       "4108        192.0        0.0         441.0  18.0     0.0  \n",
       "...           ...        ...           ...   ...     ...  \n",
       "1930         12.0        0.0           0.0   0.0  1963.0  \n",
       "7620         11.0      780.0           0.0   0.0     0.0  \n",
       "7503          0.0        0.0           0.0   0.0     0.0  \n",
       "6323          0.0        0.0           0.0   0.0     0.0  \n",
       "4204          0.0        0.0           0.0   0.0     0.0  \n",
       "\n",
       "[2608 rows x 14 columns]"
      ]
     },
     "execution_count": 80,
     "metadata": {},
     "output_type": "execute_result"
    }
   ],
   "source": [
    "X_test"
   ]
  },
  {
   "cell_type": "markdown",
   "id": "5bdfc333",
   "metadata": {},
   "source": [
    "# 6. Testing the data"
   ]
  },
  {
   "cell_type": "code",
   "execution_count": 81,
   "id": "94e85eca",
   "metadata": {},
   "outputs": [],
   "source": [
    "df = pd.read_csv('test.csv')"
   ]
  },
  {
   "cell_type": "markdown",
   "id": "ab440b19",
   "metadata": {},
   "source": [
    "### Handle the missing values"
   ]
  },
  {
   "cell_type": "code",
   "execution_count": 82,
   "id": "bd58ccc6",
   "metadata": {},
   "outputs": [
    {
     "data": {
      "text/plain": [
       "PassengerId       0\n",
       "HomePlanet       87\n",
       "CryoSleep        93\n",
       "Cabin           100\n",
       "Destination      92\n",
       "Age              91\n",
       "VIP              93\n",
       "RoomService      82\n",
       "FoodCourt       106\n",
       "ShoppingMall     98\n",
       "Spa             101\n",
       "VRDeck           80\n",
       "Name             94\n",
       "dtype: int64"
      ]
     },
     "execution_count": 82,
     "metadata": {},
     "output_type": "execute_result"
    }
   ],
   "source": [
    "df.isnull().sum()"
   ]
  },
  {
   "cell_type": "code",
   "execution_count": 83,
   "id": "7dfde585",
   "metadata": {},
   "outputs": [],
   "source": [
    "impute_nan_random(df,'Age')\n",
    "for feature in ['RoomService', 'FoodCourt', 'ShoppingMall', 'Spa', 'VRDeck']:\n",
    "    impute_nan_random(df,feature)\n",
    "for c in ['HomePlanet','CryoSleep','Destination','VIP']:\n",
    "    impute_nan_mode(df,c)\n",
    "for c in ['Name','Cabin']:\n",
    "    impute_nan_random(df,c)"
   ]
  },
  {
   "cell_type": "code",
   "execution_count": 84,
   "id": "2c1d142d",
   "metadata": {},
   "outputs": [
    {
     "data": {
      "text/plain": [
       "PassengerId     0\n",
       "HomePlanet      0\n",
       "CryoSleep       0\n",
       "Cabin           0\n",
       "Destination     0\n",
       "Age             0\n",
       "VIP             0\n",
       "RoomService     0\n",
       "FoodCourt       0\n",
       "ShoppingMall    0\n",
       "Spa             0\n",
       "VRDeck          0\n",
       "Name            0\n",
       "dtype: int64"
      ]
     },
     "execution_count": 84,
     "metadata": {},
     "output_type": "execute_result"
    }
   ],
   "source": [
    "df.isnull().sum()"
   ]
  },
  {
   "cell_type": "markdown",
   "id": "c0e2211b",
   "metadata": {},
   "source": [
    "### Treating the outliers"
   ]
  },
  {
   "cell_type": "code",
   "execution_count": 85,
   "id": "02e2613f",
   "metadata": {},
   "outputs": [
    {
     "name": "stdout",
     "output_type": "stream",
     "text": [
      "-14.012870336720304 71.43395988546942 28.71054477437456\n"
     ]
    }
   ],
   "source": [
    "uppper_boundary=df['Age'].mean() + 3* df['Age'].std()\n",
    "lower_boundary=df['Age'].mean() - 3* df['Age'].std()\n",
    "print(lower_boundary,uppper_boundary,df['Age'].mean())"
   ]
  },
  {
   "cell_type": "code",
   "execution_count": 86,
   "id": "03ed5262",
   "metadata": {},
   "outputs": [],
   "source": [
    "df.loc[df['Age']>=71,'Age']=71"
   ]
  },
  {
   "cell_type": "markdown",
   "id": "66afe963",
   "metadata": {},
   "source": [
    "### Categorical encoding"
   ]
  },
  {
   "cell_type": "code",
   "execution_count": 87,
   "id": "ba0ea458",
   "metadata": {},
   "outputs": [],
   "source": [
    "df['Deck'] = df.Cabin.str.split('/').str[0]\n",
    "df['Side'] = df.Cabin.str.split('/').str[-1]"
   ]
  },
  {
   "cell_type": "code",
   "execution_count": 88,
   "id": "321c9cdd",
   "metadata": {},
   "outputs": [],
   "source": [
    "df_ohe = pd.get_dummies(df[['HomePlanet','Destination','Side']],drop_first=True)\n",
    "deck_dict={'A':0,'B':1,'C':2,'D':3,'E':4,'F':5,'G':6,'T':7}\n",
    "df_lne = df.Deck.map(deck_dict)\n",
    "df['CryoSleep'] = df['CryoSleep'].astype('int')\n",
    "df['VIP'] = df['VIP'].astype('int')\n",
    "df_other = df[['CryoSleep', 'Age', 'VIP','RoomService', 'FoodCourt', 'ShoppingMall', 'Spa', 'VRDeck']]\n",
    "df_clean = pd.concat([df_ohe, df_lne,df_other], axis=1, join='inner')"
   ]
  },
  {
   "cell_type": "code",
   "execution_count": 89,
   "id": "ba5f39d7",
   "metadata": {},
   "outputs": [
    {
     "data": {
      "text/html": [
       "<div>\n",
       "<style scoped>\n",
       "    .dataframe tbody tr th:only-of-type {\n",
       "        vertical-align: middle;\n",
       "    }\n",
       "\n",
       "    .dataframe tbody tr th {\n",
       "        vertical-align: top;\n",
       "    }\n",
       "\n",
       "    .dataframe thead th {\n",
       "        text-align: right;\n",
       "    }\n",
       "</style>\n",
       "<table border=\"1\" class=\"dataframe\">\n",
       "  <thead>\n",
       "    <tr style=\"text-align: right;\">\n",
       "      <th></th>\n",
       "      <th>HomePlanet_Europa</th>\n",
       "      <th>HomePlanet_Mars</th>\n",
       "      <th>Destination_PSO J318.5-22</th>\n",
       "      <th>Destination_TRAPPIST-1e</th>\n",
       "      <th>Side_S</th>\n",
       "      <th>Deck</th>\n",
       "      <th>CryoSleep</th>\n",
       "      <th>Age</th>\n",
       "      <th>VIP</th>\n",
       "      <th>RoomService</th>\n",
       "      <th>FoodCourt</th>\n",
       "      <th>ShoppingMall</th>\n",
       "      <th>Spa</th>\n",
       "      <th>VRDeck</th>\n",
       "    </tr>\n",
       "  </thead>\n",
       "  <tbody>\n",
       "    <tr>\n",
       "      <th>0</th>\n",
       "      <td>0</td>\n",
       "      <td>0</td>\n",
       "      <td>0</td>\n",
       "      <td>1</td>\n",
       "      <td>1</td>\n",
       "      <td>6</td>\n",
       "      <td>1</td>\n",
       "      <td>27.0</td>\n",
       "      <td>0</td>\n",
       "      <td>0.0</td>\n",
       "      <td>0.0</td>\n",
       "      <td>0.0</td>\n",
       "      <td>0.0</td>\n",
       "      <td>0.0</td>\n",
       "    </tr>\n",
       "    <tr>\n",
       "      <th>1</th>\n",
       "      <td>0</td>\n",
       "      <td>0</td>\n",
       "      <td>0</td>\n",
       "      <td>1</td>\n",
       "      <td>1</td>\n",
       "      <td>5</td>\n",
       "      <td>0</td>\n",
       "      <td>19.0</td>\n",
       "      <td>0</td>\n",
       "      <td>0.0</td>\n",
       "      <td>9.0</td>\n",
       "      <td>0.0</td>\n",
       "      <td>2823.0</td>\n",
       "      <td>0.0</td>\n",
       "    </tr>\n",
       "    <tr>\n",
       "      <th>2</th>\n",
       "      <td>1</td>\n",
       "      <td>0</td>\n",
       "      <td>0</td>\n",
       "      <td>0</td>\n",
       "      <td>1</td>\n",
       "      <td>2</td>\n",
       "      <td>1</td>\n",
       "      <td>31.0</td>\n",
       "      <td>0</td>\n",
       "      <td>0.0</td>\n",
       "      <td>0.0</td>\n",
       "      <td>0.0</td>\n",
       "      <td>0.0</td>\n",
       "      <td>0.0</td>\n",
       "    </tr>\n",
       "    <tr>\n",
       "      <th>3</th>\n",
       "      <td>1</td>\n",
       "      <td>0</td>\n",
       "      <td>0</td>\n",
       "      <td>1</td>\n",
       "      <td>1</td>\n",
       "      <td>2</td>\n",
       "      <td>0</td>\n",
       "      <td>38.0</td>\n",
       "      <td>0</td>\n",
       "      <td>0.0</td>\n",
       "      <td>6652.0</td>\n",
       "      <td>0.0</td>\n",
       "      <td>181.0</td>\n",
       "      <td>585.0</td>\n",
       "    </tr>\n",
       "    <tr>\n",
       "      <th>4</th>\n",
       "      <td>0</td>\n",
       "      <td>0</td>\n",
       "      <td>0</td>\n",
       "      <td>1</td>\n",
       "      <td>1</td>\n",
       "      <td>5</td>\n",
       "      <td>0</td>\n",
       "      <td>20.0</td>\n",
       "      <td>0</td>\n",
       "      <td>10.0</td>\n",
       "      <td>0.0</td>\n",
       "      <td>635.0</td>\n",
       "      <td>0.0</td>\n",
       "      <td>0.0</td>\n",
       "    </tr>\n",
       "    <tr>\n",
       "      <th>...</th>\n",
       "      <td>...</td>\n",
       "      <td>...</td>\n",
       "      <td>...</td>\n",
       "      <td>...</td>\n",
       "      <td>...</td>\n",
       "      <td>...</td>\n",
       "      <td>...</td>\n",
       "      <td>...</td>\n",
       "      <td>...</td>\n",
       "      <td>...</td>\n",
       "      <td>...</td>\n",
       "      <td>...</td>\n",
       "      <td>...</td>\n",
       "      <td>...</td>\n",
       "    </tr>\n",
       "    <tr>\n",
       "      <th>4272</th>\n",
       "      <td>0</td>\n",
       "      <td>0</td>\n",
       "      <td>0</td>\n",
       "      <td>1</td>\n",
       "      <td>1</td>\n",
       "      <td>6</td>\n",
       "      <td>1</td>\n",
       "      <td>34.0</td>\n",
       "      <td>0</td>\n",
       "      <td>0.0</td>\n",
       "      <td>0.0</td>\n",
       "      <td>0.0</td>\n",
       "      <td>0.0</td>\n",
       "      <td>0.0</td>\n",
       "    </tr>\n",
       "    <tr>\n",
       "      <th>4273</th>\n",
       "      <td>0</td>\n",
       "      <td>0</td>\n",
       "      <td>0</td>\n",
       "      <td>1</td>\n",
       "      <td>1</td>\n",
       "      <td>5</td>\n",
       "      <td>0</td>\n",
       "      <td>42.0</td>\n",
       "      <td>0</td>\n",
       "      <td>0.0</td>\n",
       "      <td>847.0</td>\n",
       "      <td>17.0</td>\n",
       "      <td>10.0</td>\n",
       "      <td>144.0</td>\n",
       "    </tr>\n",
       "    <tr>\n",
       "      <th>4274</th>\n",
       "      <td>0</td>\n",
       "      <td>1</td>\n",
       "      <td>0</td>\n",
       "      <td>0</td>\n",
       "      <td>0</td>\n",
       "      <td>3</td>\n",
       "      <td>1</td>\n",
       "      <td>20.0</td>\n",
       "      <td>0</td>\n",
       "      <td>0.0</td>\n",
       "      <td>0.0</td>\n",
       "      <td>0.0</td>\n",
       "      <td>0.0</td>\n",
       "      <td>0.0</td>\n",
       "    </tr>\n",
       "    <tr>\n",
       "      <th>4275</th>\n",
       "      <td>1</td>\n",
       "      <td>0</td>\n",
       "      <td>0</td>\n",
       "      <td>1</td>\n",
       "      <td>0</td>\n",
       "      <td>3</td>\n",
       "      <td>0</td>\n",
       "      <td>0.0</td>\n",
       "      <td>0</td>\n",
       "      <td>0.0</td>\n",
       "      <td>2680.0</td>\n",
       "      <td>0.0</td>\n",
       "      <td>0.0</td>\n",
       "      <td>523.0</td>\n",
       "    </tr>\n",
       "    <tr>\n",
       "      <th>4276</th>\n",
       "      <td>0</td>\n",
       "      <td>0</td>\n",
       "      <td>1</td>\n",
       "      <td>0</td>\n",
       "      <td>1</td>\n",
       "      <td>6</td>\n",
       "      <td>1</td>\n",
       "      <td>43.0</td>\n",
       "      <td>0</td>\n",
       "      <td>0.0</td>\n",
       "      <td>0.0</td>\n",
       "      <td>0.0</td>\n",
       "      <td>0.0</td>\n",
       "      <td>0.0</td>\n",
       "    </tr>\n",
       "  </tbody>\n",
       "</table>\n",
       "<p>4277 rows × 14 columns</p>\n",
       "</div>"
      ],
      "text/plain": [
       "      HomePlanet_Europa  HomePlanet_Mars  Destination_PSO J318.5-22  \\\n",
       "0                     0                0                          0   \n",
       "1                     0                0                          0   \n",
       "2                     1                0                          0   \n",
       "3                     1                0                          0   \n",
       "4                     0                0                          0   \n",
       "...                 ...              ...                        ...   \n",
       "4272                  0                0                          0   \n",
       "4273                  0                0                          0   \n",
       "4274                  0                1                          0   \n",
       "4275                  1                0                          0   \n",
       "4276                  0                0                          1   \n",
       "\n",
       "      Destination_TRAPPIST-1e  Side_S  Deck  CryoSleep   Age  VIP  \\\n",
       "0                           1       1     6          1  27.0    0   \n",
       "1                           1       1     5          0  19.0    0   \n",
       "2                           0       1     2          1  31.0    0   \n",
       "3                           1       1     2          0  38.0    0   \n",
       "4                           1       1     5          0  20.0    0   \n",
       "...                       ...     ...   ...        ...   ...  ...   \n",
       "4272                        1       1     6          1  34.0    0   \n",
       "4273                        1       1     5          0  42.0    0   \n",
       "4274                        0       0     3          1  20.0    0   \n",
       "4275                        1       0     3          0   0.0    0   \n",
       "4276                        0       1     6          1  43.0    0   \n",
       "\n",
       "      RoomService  FoodCourt  ShoppingMall     Spa  VRDeck  \n",
       "0             0.0        0.0           0.0     0.0     0.0  \n",
       "1             0.0        9.0           0.0  2823.0     0.0  \n",
       "2             0.0        0.0           0.0     0.0     0.0  \n",
       "3             0.0     6652.0           0.0   181.0   585.0  \n",
       "4            10.0        0.0         635.0     0.0     0.0  \n",
       "...           ...        ...           ...     ...     ...  \n",
       "4272          0.0        0.0           0.0     0.0     0.0  \n",
       "4273          0.0      847.0          17.0    10.0   144.0  \n",
       "4274          0.0        0.0           0.0     0.0     0.0  \n",
       "4275          0.0     2680.0           0.0     0.0   523.0  \n",
       "4276          0.0        0.0           0.0     0.0     0.0  \n",
       "\n",
       "[4277 rows x 14 columns]"
      ]
     },
     "execution_count": 89,
     "metadata": {},
     "output_type": "execute_result"
    }
   ],
   "source": [
    "df_clean"
   ]
  },
  {
   "cell_type": "markdown",
   "id": "54b4354d",
   "metadata": {},
   "source": [
    "### Predict"
   ]
  },
  {
   "cell_type": "code",
   "execution_count": 90,
   "id": "b3ccb50e",
   "metadata": {},
   "outputs": [],
   "source": [
    "y_pred=classifier.predict(df_clean)"
   ]
  },
  {
   "cell_type": "code",
   "execution_count": 91,
   "id": "c0196788",
   "metadata": {},
   "outputs": [
    {
     "data": {
      "text/plain": [
       "array([1, 0, 1, ..., 1, 1, 1])"
      ]
     },
     "execution_count": 91,
     "metadata": {},
     "output_type": "execute_result"
    }
   ],
   "source": [
    "y_pred"
   ]
  }
 ],
 "metadata": {
  "kernelspec": {
   "display_name": "Python 3 (ipykernel)",
   "language": "python",
   "name": "python3"
  },
  "language_info": {
   "codemirror_mode": {
    "name": "ipython",
    "version": 3
   },
   "file_extension": ".py",
   "mimetype": "text/x-python",
   "name": "python",
   "nbconvert_exporter": "python",
   "pygments_lexer": "ipython3",
   "version": "3.9.12"
  }
 },
 "nbformat": 4,
 "nbformat_minor": 5
}
